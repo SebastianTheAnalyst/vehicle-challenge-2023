{
 "cells": [
  {
   "cell_type": "markdown",
   "id": "11311045",
   "metadata": {},
   "source": [
    "# Programming Challenge"
   ]
  },
  {
   "cell_type": "markdown",
   "id": "f606cdf7",
   "metadata": {},
   "source": [
    "Die Daten, welche in dieser Challenge verwendet werden sollen, finden Sie in der Datei vehicle_data.xlsx. \n",
    "Bitte beachten Sie, dass die Daten zunächst aufbereitet werden müssen, also noch nicht in einer Qualität vorliegen, die eine \u001c",
    "nale Insight-Generierung ermöglicht.\n",
    "Die Quelldatei vehicle_data.xlsx beinhaltet Daten zu 500 Fahrzeugen:\n",
    "Im Reiter sales code finden Sie 500 Trucks deren eindeutige Fahrzeugidentifikationsnummer (FIN) als hash in der \n",
    "Spalte h_vehicle_hash dargestellt ist. Jedes Fahrzeug ist aufgeschlüsselt nach Produktionsdatum, Land in welches \n",
    "das Fahrzeug verkauft wurde und sales_code_array. Letztere Spalte beinhaltet Codes, welche die genaue \n",
    "Zusammensetzung des Fahrzeuges beschreiben. Im Reiter engines finden Sie 9 sales Codes, die Aufschluss darüber \n",
    "geben, welcher Motor im entsprechenden Fahrzeug verbaut ist. Mit der Tabelle vehicle_hash können Sie die gehashte \n",
    "FIN zurück in die originale Darstellung",
    " mappen.\n",
    "\n",
    "Die Challenge teilt sich in zwei Aufgabenteile ein. Der erste Teil zielt auf ihre Softwareentwicklungsfertigkeiten\n",
    "ab. Halten Sie bei der Code Gestaltung die gängigsten Clean Code Regeln ein und verfolgen Sie nach Möglichkeit eine\n",
    "testgetriebene Entwicklung. Im zweiten Aufgabenteil sollen Sie verschiedene Analysen durchführen. Verwenden Sie \n",
    "dazu die Daten, welche Sie in Aufgabenteil eins aufbereitet haben.\n",
    "\n",
    "Bevor Sie starten, bietet es sich an sich zunächst mit den Datenätzen vertraut zu machen. Verschaffen Sie sich \n",
    "einen Überblick und erkunden Sie die Zusammenhänge der Datensätze.\n",
    "\n",
    "verbauter Motor, Leistungsklasse, Kabinentyp und weitere Merkmale OM924, OM926, etc . . .\n",
    "17 stellige Buchstaben-Zahlenkombination\n",
    "\n",
    "#Aufgabe 1: \n",
    "Data Engineering\n",
    "Schreiben Sie eine ETL Pipeline zur Datenaufbereitung. Gehen Sie dabei wie folgt vor.\n",
    " Daten laden\n",
    " Daten bereinigen und aufbereiten  Daten zusammenführen\n",
    " Gesamttabelle bestehend aus folgenden Spalten abspeichern:\n",
    "\u0015 fin\n",
    "\u0015 production_date \n",
    "\u0015 country\n",
    "\u0015 sales_code_array\n",
    "\n",
    "#Aufgabe 2: Data Science\n",
    "Analysieren Sie den die Daten, indem Sie folgende Fragestellungen auswerten.\n",
    "Visualisieren Sie ihre Ergebnisse.\n",
    "\n",
    " Welches sind die top drei Länder, in die wir zwischen 01.01.2014 und 31.12.2020 am meisten Fahrzeuge verkauft haben.\n",
    " In welchem dieser Jahre haben wir insgesamt am meisten Fahrzeuge verkauft?\n",
    " Welche FIN hat das zeitlich erste verkaufte Fahrzeug.\n",
    " Wie viele Fahrzeuge wurden zwischen 01.01.2017 und 01.01.2021 mit OM934, OM936, OM470 und OM471 Motoren verkauft.\n",
    " Welche Fahrzeuge (FIN) wurden zwischen 01.01.2017 und 01.01.2021 und mit OM936 Motor nach Neuseeland verkauft."
   ]
  },
  {
   "cell_type": "markdown",
   "id": "d312a9ed",
   "metadata": {},
   "source": [
    "# Import der Bibliotheken"
   ]
  },
  {
   "cell_type": "code",
   "execution_count": 1,
   "id": "63a94d15",
   "metadata": {},
   "outputs": [],
   "source": [
    "import pandas as pd\n",
    "import numpy as np\n",
    "import matplotlib.pylab as plt \n",
    "import seaborn as sns"
   ]
  },
  {
   "cell_type": "code",
   "execution_count": 2,
   "id": "a3b31612",
   "metadata": {},
   "outputs": [],
   "source": [
    "import os"
   ]
  },
  {
   "cell_type": "code",
   "execution_count": 3,
   "id": "ef8413b4",
   "metadata": {},
   "outputs": [
    {
     "data": {
      "text/plain": [
       "'/Users/sebastiangurgel/Desktop/Github/vehicle-challenge-2023/Jannik vehicle praxis challenge 1:23'"
      ]
     },
     "execution_count": 3,
     "metadata": {},
     "output_type": "execute_result"
    }
   ],
   "source": [
    "os.getcwd()"
   ]
  },
  {
   "cell_type": "markdown",
   "id": "bee3c999",
   "metadata": {},
   "source": [
    "---"
   ]
  },
  {
   "cell_type": "markdown",
   "id": "c7caf230",
   "metadata": {},
   "source": [
    "# Tabellenblatt 1 öffnen, prüfen, bereinigen"
   ]
  },
  {
   "cell_type": "code",
   "execution_count": 4,
   "id": "3e973cb2",
   "metadata": {},
   "outputs": [],
   "source": [
    "sales_codes=pd.read_excel(\"vehicle_data.xlsx\", sheet_name=(\"sales_codes\"))"
   ]
  },
  {
   "cell_type": "code",
   "execution_count": 5,
   "id": "e653c5b1",
   "metadata": {},
   "outputs": [
    {
     "data": {
      "text/html": [
       "<div>\n",
       "<style scoped>\n",
       "    .dataframe tbody tr th:only-of-type {\n",
       "        vertical-align: middle;\n",
       "    }\n",
       "\n",
       "    .dataframe tbody tr th {\n",
       "        vertical-align: top;\n",
       "    }\n",
       "\n",
       "    .dataframe thead th {\n",
       "        text-align: right;\n",
       "    }\n",
       "</style>\n",
       "<table border=\"1\" class=\"dataframe\">\n",
       "  <thead>\n",
       "    <tr style=\"text-align: right;\">\n",
       "      <th></th>\n",
       "      <th>Unnamed: 0</th>\n",
       "      <th>h_vehicle_hash</th>\n",
       "      <th>production_date</th>\n",
       "      <th>country</th>\n",
       "      <th>sales_code_array</th>\n",
       "    </tr>\n",
       "  </thead>\n",
       "  <tbody>\n",
       "    <tr>\n",
       "      <th>0</th>\n",
       "      <td>0</td>\n",
       "      <td>924d229bede272c5a3b440c464cd1dfb74cae74d</td>\n",
       "      <td>2013-02-05 00:00:00</td>\n",
       "      <td>Namibia</td>\n",
       "      <td>Z5E, M3E, A4S, Y1R, F5E, J3Y, X4M, J1Z, M5X, V...</td>\n",
       "    </tr>\n",
       "    <tr>\n",
       "      <th>1</th>\n",
       "      <td>0</td>\n",
       "      <td>3787a8db036dabd7433a32eaeeca8e5758bc3df8</td>\n",
       "      <td>2012-08-27 00:00:00</td>\n",
       "      <td>Germany</td>\n",
       "      <td>Z5D, M2N, K1X, Q2Z, G0W, F0S, F0K, E4M, V2H, A...</td>\n",
       "    </tr>\n",
       "    <tr>\n",
       "      <th>2</th>\n",
       "      <td>0</td>\n",
       "      <td>aea31cdf4f575acf190626a50e927547e683d2ac</td>\n",
       "      <td>2015-08-11 00:00:00</td>\n",
       "      <td>Germany</td>\n",
       "      <td>Z5C, M2A, A5H, P7S, P2B, N8D, D4S, A3A, D4Q, I...</td>\n",
       "    </tr>\n",
       "    <tr>\n",
       "      <th>3</th>\n",
       "      <td>0</td>\n",
       "      <td>d92ed338496281e08443c88583be06128a2d4b42</td>\n",
       "      <td>2015-02-22 00:00:00</td>\n",
       "      <td>Lithuania</td>\n",
       "      <td>Z5F, M3P, D3H, C8C, Z9I, K6T, N2F, I1P, K3Z, Z...</td>\n",
       "    </tr>\n",
       "    <tr>\n",
       "      <th>4</th>\n",
       "      <td>0</td>\n",
       "      <td>7934c4872515da4b1c9648d01c0813f81c496aff</td>\n",
       "      <td>2017-03-10 00:00:00</td>\n",
       "      <td>Germany</td>\n",
       "      <td>Z5B, M1K, L1T, E6J, C6I, A2K, O0C, K1X, X1S, F...</td>\n",
       "    </tr>\n",
       "  </tbody>\n",
       "</table>\n",
       "</div>"
      ],
      "text/plain": [
       "   Unnamed: 0                            h_vehicle_hash      production_date  \\\n",
       "0           0  924d229bede272c5a3b440c464cd1dfb74cae74d  2013-02-05 00:00:00   \n",
       "1           0  3787a8db036dabd7433a32eaeeca8e5758bc3df8  2012-08-27 00:00:00   \n",
       "2           0  aea31cdf4f575acf190626a50e927547e683d2ac  2015-08-11 00:00:00   \n",
       "3           0  d92ed338496281e08443c88583be06128a2d4b42  2015-02-22 00:00:00   \n",
       "4           0  7934c4872515da4b1c9648d01c0813f81c496aff  2017-03-10 00:00:00   \n",
       "\n",
       "     country                                   sales_code_array  \n",
       "0    Namibia  Z5E, M3E, A4S, Y1R, F5E, J3Y, X4M, J1Z, M5X, V...  \n",
       "1    Germany  Z5D, M2N, K1X, Q2Z, G0W, F0S, F0K, E4M, V2H, A...  \n",
       "2    Germany  Z5C, M2A, A5H, P7S, P2B, N8D, D4S, A3A, D4Q, I...  \n",
       "3  Lithuania  Z5F, M3P, D3H, C8C, Z9I, K6T, N2F, I1P, K3Z, Z...  \n",
       "4    Germany  Z5B, M1K, L1T, E6J, C6I, A2K, O0C, K1X, X1S, F...  "
      ]
     },
     "execution_count": 5,
     "metadata": {},
     "output_type": "execute_result"
    }
   ],
   "source": [
    "sales_codes.head()"
   ]
  },
  {
   "cell_type": "code",
   "execution_count": 6,
   "id": "9d29e7a8",
   "metadata": {},
   "outputs": [
    {
     "data": {
      "text/plain": [
       "(500, 5)"
      ]
     },
     "execution_count": 6,
     "metadata": {},
     "output_type": "execute_result"
    }
   ],
   "source": [
    "sales_codes.shape"
   ]
  },
  {
   "cell_type": "code",
   "execution_count": 7,
   "id": "e7e4b641",
   "metadata": {},
   "outputs": [
    {
     "data": {
      "text/plain": [
       "Index(['Unnamed: 0', 'h_vehicle_hash', 'production_date', 'country',\n",
       "       'sales_code_array'],\n",
       "      dtype='object')"
      ]
     },
     "execution_count": 7,
     "metadata": {},
     "output_type": "execute_result"
    }
   ],
   "source": [
    "sales_codes.columns"
   ]
  },
  {
   "cell_type": "code",
   "execution_count": 8,
   "id": "b4d14f27",
   "metadata": {
    "scrolled": true
   },
   "outputs": [
    {
     "data": {
      "text/plain": [
       "Unnamed: 0           int64\n",
       "h_vehicle_hash      object\n",
       "production_date     object\n",
       "country             object\n",
       "sales_code_array    object\n",
       "dtype: object"
      ]
     },
     "execution_count": 8,
     "metadata": {},
     "output_type": "execute_result"
    }
   ],
   "source": [
    "sales_codes.dtypes"
   ]
  },
  {
   "cell_type": "code",
   "execution_count": 9,
   "id": "8fcc8211",
   "metadata": {},
   "outputs": [
    {
     "data": {
      "text/plain": [
       "Unnamed: 0           0\n",
       "h_vehicle_hash       5\n",
       "production_date      3\n",
       "country             10\n",
       "sales_code_array     0\n",
       "dtype: int64"
      ]
     },
     "execution_count": 9,
     "metadata": {},
     "output_type": "execute_result"
    }
   ],
   "source": [
    "sales_codes.isnull( ).sum( )"
   ]
  },
  {
   "cell_type": "code",
   "execution_count": 10,
   "id": "a1b90409",
   "metadata": {},
   "outputs": [],
   "source": [
    "sales_codes.dropna(axis=0, how='any', thresh=None, subset=None, inplace=True)"
   ]
  },
  {
   "cell_type": "code",
   "execution_count": 11,
   "id": "6b3a3fc4",
   "metadata": {},
   "outputs": [
    {
     "data": {
      "text/plain": [
       "Unnamed: 0          0\n",
       "h_vehicle_hash      0\n",
       "production_date     0\n",
       "country             0\n",
       "sales_code_array    0\n",
       "dtype: int64"
      ]
     },
     "execution_count": 11,
     "metadata": {},
     "output_type": "execute_result"
    }
   ],
   "source": [
    "sales_codes.isnull( ).sum( )"
   ]
  },
  {
   "cell_type": "code",
   "execution_count": 12,
   "id": "091f7535",
   "metadata": {
    "scrolled": false
   },
   "outputs": [
    {
     "data": {
      "text/plain": [
       "(482, 5)"
      ]
     },
     "execution_count": 12,
     "metadata": {},
     "output_type": "execute_result"
    }
   ],
   "source": [
    "sales_codes.shape"
   ]
  },
  {
   "cell_type": "markdown",
   "id": "76594c69",
   "metadata": {},
   "source": [
    "# Die Spalte 'productions_date' enthält Fehler:\n",
    "  -durch Sortierung kommt man den Fehlern auf die Spur\n",
    "  -Umwandlung des Datentyp((mixed_object) in einen sortierbaren z.B.(str)\n",
    "  "
   ]
  },
  {
   "cell_type": "code",
   "execution_count": 13,
   "id": "6d1745af",
   "metadata": {},
   "outputs": [],
   "source": [
    "sales_codes[\"production_date\"]=sales_codes[\"production_date\"].astype(str)"
   ]
  },
  {
   "cell_type": "code",
   "execution_count": 14,
   "id": "f9f9ae9e",
   "metadata": {
    "scrolled": true
   },
   "outputs": [],
   "source": [
    "sales_codes.sort_values(\"production_date\", ascending=True, inplace=True)"
   ]
  },
  {
   "cell_type": "code",
   "execution_count": 15,
   "id": "771543d4",
   "metadata": {
    "scrolled": true
   },
   "outputs": [
    {
     "data": {
      "text/html": [
       "<div>\n",
       "<style scoped>\n",
       "    .dataframe tbody tr th:only-of-type {\n",
       "        vertical-align: middle;\n",
       "    }\n",
       "\n",
       "    .dataframe tbody tr th {\n",
       "        vertical-align: top;\n",
       "    }\n",
       "\n",
       "    .dataframe thead th {\n",
       "        text-align: right;\n",
       "    }\n",
       "</style>\n",
       "<table border=\"1\" class=\"dataframe\">\n",
       "  <thead>\n",
       "    <tr style=\"text-align: right;\">\n",
       "      <th></th>\n",
       "      <th>Unnamed: 0</th>\n",
       "      <th>h_vehicle_hash</th>\n",
       "      <th>production_date</th>\n",
       "      <th>country</th>\n",
       "      <th>sales_code_array</th>\n",
       "    </tr>\n",
       "  </thead>\n",
       "  <tbody>\n",
       "    <tr>\n",
       "      <th>294</th>\n",
       "      <td>0</td>\n",
       "      <td>3123bda5939157c24d95110d5173e059a15d8205</td>\n",
       "      <td>2055-09-05 00:00:00</td>\n",
       "      <td>Czechia</td>\n",
       "      <td>Z5L, M3I, K1S, S1I, B3G, W5M, Z9F, N1G, C3A, V...</td>\n",
       "    </tr>\n",
       "    <tr>\n",
       "      <th>249</th>\n",
       "      <td>0</td>\n",
       "      <td>fb69ec4981c34392ff3cd437b020dfa78f2baad4</td>\n",
       "      <td>25.08.1850</td>\n",
       "      <td>Kaimcratic Iepublic of Critisch</td>\n",
       "      <td>Z5B, M1K, W1A, O0E, V4A, H2G, Q1H, W8E, V2M, M...</td>\n",
       "    </tr>\n",
       "    <tr>\n",
       "      <th>352</th>\n",
       "      <td>0</td>\n",
       "      <td>480af13ad678a13edd627f39f71d07661dfc14c7</td>\n",
       "      <td>32.08.2014</td>\n",
       "      <td>Laos</td>\n",
       "      <td>Z5B, M1I, C8L, U1E, I7X, E3H, F7Y, B5M, C7C, A...</td>\n",
       "    </tr>\n",
       "    <tr>\n",
       "      <th>323</th>\n",
       "      <td>0</td>\n",
       "      <td>e99a2bcda4528ed5ace5088e68b89ea72416cf8d</td>\n",
       "      <td>9080-09-20 00:00:00</td>\n",
       "      <td>Lebanon</td>\n",
       "      <td>Z5D, M2R, A5H, F3H, E0M, I4E, F9T, Q1M, O2P, A...</td>\n",
       "    </tr>\n",
       "    <tr>\n",
       "      <th>344</th>\n",
       "      <td>0</td>\n",
       "      <td>f60349d2d0972549ddb6414c0c7766caac798740</td>\n",
       "      <td>9999-05-12 00:00:00</td>\n",
       "      <td>Sao Tome and Principe</td>\n",
       "      <td>Z5F, M3V, P7M, T0F, V7Z, F5B, A6E, X2V, K0T, Z...</td>\n",
       "    </tr>\n",
       "  </tbody>\n",
       "</table>\n",
       "</div>"
      ],
      "text/plain": [
       "     Unnamed: 0                            h_vehicle_hash  \\\n",
       "294           0  3123bda5939157c24d95110d5173e059a15d8205   \n",
       "249           0  fb69ec4981c34392ff3cd437b020dfa78f2baad4   \n",
       "352           0  480af13ad678a13edd627f39f71d07661dfc14c7   \n",
       "323           0  e99a2bcda4528ed5ace5088e68b89ea72416cf8d   \n",
       "344           0  f60349d2d0972549ddb6414c0c7766caac798740   \n",
       "\n",
       "         production_date                          country  \\\n",
       "294  2055-09-05 00:00:00                          Czechia   \n",
       "249           25.08.1850  Kaimcratic Iepublic of Critisch   \n",
       "352           32.08.2014                             Laos   \n",
       "323  9080-09-20 00:00:00                          Lebanon   \n",
       "344  9999-05-12 00:00:00            Sao Tome and Principe   \n",
       "\n",
       "                                      sales_code_array  \n",
       "294  Z5L, M3I, K1S, S1I, B3G, W5M, Z9F, N1G, C3A, V...  \n",
       "249  Z5B, M1K, W1A, O0E, V4A, H2G, Q1H, W8E, V2M, M...  \n",
       "352  Z5B, M1I, C8L, U1E, I7X, E3H, F7Y, B5M, C7C, A...  \n",
       "323  Z5D, M2R, A5H, F3H, E0M, I4E, F9T, Q1M, O2P, A...  \n",
       "344  Z5F, M3V, P7M, T0F, V7Z, F5B, A6E, X2V, K0T, Z...  "
      ]
     },
     "execution_count": 15,
     "metadata": {},
     "output_type": "execute_result"
    }
   ],
   "source": [
    "sales_codes.tail()"
   ]
  },
  {
   "cell_type": "code",
   "execution_count": 16,
   "id": "42f9d601",
   "metadata": {},
   "outputs": [],
   "source": [
    "# die letzten 5 Zeilen enthalten Datumsfehler:294,249,352,323,344"
   ]
  },
  {
   "cell_type": "code",
   "execution_count": 17,
   "id": "e735e805",
   "metadata": {
    "scrolled": true
   },
   "outputs": [
    {
     "data": {
      "text/html": [
       "<div>\n",
       "<style scoped>\n",
       "    .dataframe tbody tr th:only-of-type {\n",
       "        vertical-align: middle;\n",
       "    }\n",
       "\n",
       "    .dataframe tbody tr th {\n",
       "        vertical-align: top;\n",
       "    }\n",
       "\n",
       "    .dataframe thead th {\n",
       "        text-align: right;\n",
       "    }\n",
       "</style>\n",
       "<table border=\"1\" class=\"dataframe\">\n",
       "  <thead>\n",
       "    <tr style=\"text-align: right;\">\n",
       "      <th></th>\n",
       "      <th>Unnamed: 0</th>\n",
       "      <th>h_vehicle_hash</th>\n",
       "      <th>production_date</th>\n",
       "      <th>country</th>\n",
       "      <th>sales_code_array</th>\n",
       "    </tr>\n",
       "  </thead>\n",
       "  <tbody>\n",
       "    <tr>\n",
       "      <th>193</th>\n",
       "      <td>0</td>\n",
       "      <td>bc15b6297e80226461940148c48b4a219ed1d832</td>\n",
       "      <td>05.06.1899</td>\n",
       "      <td>Uganda</td>\n",
       "      <td>Z5L, M3H, O4G, Z9C, E8A, D1M, V2C, R2L, A3B, R...</td>\n",
       "    </tr>\n",
       "    <tr>\n",
       "      <th>178</th>\n",
       "      <td>0</td>\n",
       "      <td>bcc1f439139e9f436a4c2b8ae106e61eff54aa40</td>\n",
       "      <td>1910-03-10 00:00:00</td>\n",
       "      <td>New Caledonia</td>\n",
       "      <td>Z5C, M2D, I1W, F5L, V6H, F2T, O1A, I1G, W3B, Q...</td>\n",
       "    </tr>\n",
       "    <tr>\n",
       "      <th>468</th>\n",
       "      <td>0</td>\n",
       "      <td>067ecbfc7cdeab1abfb340d1e3a99463966920c4</td>\n",
       "      <td>2011-01-26 00:00:00</td>\n",
       "      <td>Chad</td>\n",
       "      <td>Z5D, M2S, P9B, W9S, F6P, D7N, Z3K, V5A, O7B, A...</td>\n",
       "    </tr>\n",
       "    <tr>\n",
       "      <th>202</th>\n",
       "      <td>0</td>\n",
       "      <td>5e001b6fd94922709a5f23c881c737fe28668b3e</td>\n",
       "      <td>2011-02-15 00:00:00</td>\n",
       "      <td>Thailand</td>\n",
       "      <td>Z5D, M2N, N2I, F9W, Q0N, K7R, A5M, V6T, R5M, Z...</td>\n",
       "    </tr>\n",
       "    <tr>\n",
       "      <th>251</th>\n",
       "      <td>0</td>\n",
       "      <td>8b95dc5e5dc3dfb9465dfc2c2a0a3b9ccefd7bd1</td>\n",
       "      <td>2011-02-17 00:00:00</td>\n",
       "      <td>Egypt</td>\n",
       "      <td>Z5E, M3D, P8Y, X4E, V6R, E3E, W7F, E3Z, C3P, C...</td>\n",
       "    </tr>\n",
       "  </tbody>\n",
       "</table>\n",
       "</div>"
      ],
      "text/plain": [
       "     Unnamed: 0                            h_vehicle_hash  \\\n",
       "193           0  bc15b6297e80226461940148c48b4a219ed1d832   \n",
       "178           0  bcc1f439139e9f436a4c2b8ae106e61eff54aa40   \n",
       "468           0  067ecbfc7cdeab1abfb340d1e3a99463966920c4   \n",
       "202           0  5e001b6fd94922709a5f23c881c737fe28668b3e   \n",
       "251           0  8b95dc5e5dc3dfb9465dfc2c2a0a3b9ccefd7bd1   \n",
       "\n",
       "         production_date        country  \\\n",
       "193           05.06.1899         Uganda   \n",
       "178  1910-03-10 00:00:00  New Caledonia   \n",
       "468  2011-01-26 00:00:00           Chad   \n",
       "202  2011-02-15 00:00:00       Thailand   \n",
       "251  2011-02-17 00:00:00          Egypt   \n",
       "\n",
       "                                      sales_code_array  \n",
       "193  Z5L, M3H, O4G, Z9C, E8A, D1M, V2C, R2L, A3B, R...  \n",
       "178  Z5C, M2D, I1W, F5L, V6H, F2T, O1A, I1G, W3B, Q...  \n",
       "468  Z5D, M2S, P9B, W9S, F6P, D7N, Z3K, V5A, O7B, A...  \n",
       "202  Z5D, M2N, N2I, F9W, Q0N, K7R, A5M, V6T, R5M, Z...  \n",
       "251  Z5E, M3D, P8Y, X4E, V6R, E3E, W7F, E3Z, C3P, C...  "
      ]
     },
     "execution_count": 17,
     "metadata": {},
     "output_type": "execute_result"
    }
   ],
   "source": [
    "sales_codes.head()"
   ]
  },
  {
   "cell_type": "code",
   "execution_count": 18,
   "id": "553b71cb",
   "metadata": {},
   "outputs": [],
   "source": [
    "# die ersten beiden Zeilen enthalten Datumsfehler: 193, 178"
   ]
  },
  {
   "cell_type": "code",
   "execution_count": 19,
   "id": "b5a74c0c",
   "metadata": {},
   "outputs": [],
   "source": [
    "# Löschen der fehlerhaften Datumszeilen:\n",
    "sales_codes.drop(index=[193, 178,294,249,352,323,344], inplace=True)"
   ]
  },
  {
   "cell_type": "code",
   "execution_count": 20,
   "id": "24c2fadf",
   "metadata": {
    "scrolled": true
   },
   "outputs": [
    {
     "data": {
      "text/html": [
       "<div>\n",
       "<style scoped>\n",
       "    .dataframe tbody tr th:only-of-type {\n",
       "        vertical-align: middle;\n",
       "    }\n",
       "\n",
       "    .dataframe tbody tr th {\n",
       "        vertical-align: top;\n",
       "    }\n",
       "\n",
       "    .dataframe thead th {\n",
       "        text-align: right;\n",
       "    }\n",
       "</style>\n",
       "<table border=\"1\" class=\"dataframe\">\n",
       "  <thead>\n",
       "    <tr style=\"text-align: right;\">\n",
       "      <th></th>\n",
       "      <th>Unnamed: 0</th>\n",
       "      <th>h_vehicle_hash</th>\n",
       "      <th>production_date</th>\n",
       "      <th>country</th>\n",
       "      <th>sales_code_array</th>\n",
       "    </tr>\n",
       "  </thead>\n",
       "  <tbody>\n",
       "    <tr>\n",
       "      <th>468</th>\n",
       "      <td>0</td>\n",
       "      <td>067ecbfc7cdeab1abfb340d1e3a99463966920c4</td>\n",
       "      <td>2011-01-26 00:00:00</td>\n",
       "      <td>Chad</td>\n",
       "      <td>Z5D, M2S, P9B, W9S, F6P, D7N, Z3K, V5A, O7B, A...</td>\n",
       "    </tr>\n",
       "    <tr>\n",
       "      <th>202</th>\n",
       "      <td>0</td>\n",
       "      <td>5e001b6fd94922709a5f23c881c737fe28668b3e</td>\n",
       "      <td>2011-02-15 00:00:00</td>\n",
       "      <td>Thailand</td>\n",
       "      <td>Z5D, M2N, N2I, F9W, Q0N, K7R, A5M, V6T, R5M, Z...</td>\n",
       "    </tr>\n",
       "    <tr>\n",
       "      <th>251</th>\n",
       "      <td>0</td>\n",
       "      <td>8b95dc5e5dc3dfb9465dfc2c2a0a3b9ccefd7bd1</td>\n",
       "      <td>2011-02-17 00:00:00</td>\n",
       "      <td>Egypt</td>\n",
       "      <td>Z5E, M3D, P8Y, X4E, V6R, E3E, W7F, E3Z, C3P, C...</td>\n",
       "    </tr>\n",
       "    <tr>\n",
       "      <th>484</th>\n",
       "      <td>0</td>\n",
       "      <td>a05a20c0670600f828c76efcc9321bd272e49e21</td>\n",
       "      <td>2011-02-21 00:00:00</td>\n",
       "      <td>Mali</td>\n",
       "      <td>Z5D, M2R, Q4T, W4L, I8Z, I6L, U0A, R0S, Y1G, F...</td>\n",
       "    </tr>\n",
       "    <tr>\n",
       "      <th>274</th>\n",
       "      <td>0</td>\n",
       "      <td>8e87ca5ff59a5d0a94711234a53364d97691be5b</td>\n",
       "      <td>2011-02-24 00:00:00</td>\n",
       "      <td>Hong Kong</td>\n",
       "      <td>Z5B, M1I, E5J, F8M, D9H, Y1E, P1D, P0S, Q6G, W...</td>\n",
       "    </tr>\n",
       "    <tr>\n",
       "      <th>...</th>\n",
       "      <td>...</td>\n",
       "      <td>...</td>\n",
       "      <td>...</td>\n",
       "      <td>...</td>\n",
       "      <td>...</td>\n",
       "    </tr>\n",
       "    <tr>\n",
       "      <th>142</th>\n",
       "      <td>0</td>\n",
       "      <td>980e1d646e245bd75acf190d96d837dadd88dbd5</td>\n",
       "      <td>2021-04-13 00:00:00</td>\n",
       "      <td>Germany</td>\n",
       "      <td>Z5D, M2N, F8B, K6V, Z3V, M7R, C8S, J1V, T8A, D...</td>\n",
       "    </tr>\n",
       "    <tr>\n",
       "      <th>153</th>\n",
       "      <td>0</td>\n",
       "      <td>5652bc231dd43ca6ae0cce80734d722a8471c389</td>\n",
       "      <td>2021-04-21 00:00:00</td>\n",
       "      <td>Germany</td>\n",
       "      <td>Z5C, M2E, N7W, E5G, B3H, R1Z, V5R, Z3U, Y4J, U...</td>\n",
       "    </tr>\n",
       "    <tr>\n",
       "      <th>450</th>\n",
       "      <td>0</td>\n",
       "      <td>22825d08d3218cb0ac6f1637e8d48dc80d08a4cf</td>\n",
       "      <td>2021-04-25 00:00:00</td>\n",
       "      <td>Iran</td>\n",
       "      <td>Z5B, M1H, D2H, S5E, R2F, F3G, P5H, C9T, M1E, O...</td>\n",
       "    </tr>\n",
       "    <tr>\n",
       "      <th>288</th>\n",
       "      <td>0</td>\n",
       "      <td>76683e22d554bf556ac7a4b8909b8c91e2d9e4af</td>\n",
       "      <td>2021-05-07 00:00:00</td>\n",
       "      <td>Equatorial Guinea</td>\n",
       "      <td>Z5B, M1J, P0Y, Q6E, Q8L, Q4X, Y1X, Z0W, K1N, K...</td>\n",
       "    </tr>\n",
       "    <tr>\n",
       "      <th>228</th>\n",
       "      <td>0</td>\n",
       "      <td>78cd56f5fe1eb4e2bf873616d52c33b84f528e11</td>\n",
       "      <td>2021-05-12 00:00:00</td>\n",
       "      <td>Mosambik</td>\n",
       "      <td>Z5L, M3J, C7A, Q1B, Z0P, F5A, B4L, F6X, Q7Y, D...</td>\n",
       "    </tr>\n",
       "  </tbody>\n",
       "</table>\n",
       "<p>475 rows × 5 columns</p>\n",
       "</div>"
      ],
      "text/plain": [
       "     Unnamed: 0                            h_vehicle_hash  \\\n",
       "468           0  067ecbfc7cdeab1abfb340d1e3a99463966920c4   \n",
       "202           0  5e001b6fd94922709a5f23c881c737fe28668b3e   \n",
       "251           0  8b95dc5e5dc3dfb9465dfc2c2a0a3b9ccefd7bd1   \n",
       "484           0  a05a20c0670600f828c76efcc9321bd272e49e21   \n",
       "274           0  8e87ca5ff59a5d0a94711234a53364d97691be5b   \n",
       "..          ...                                       ...   \n",
       "142           0  980e1d646e245bd75acf190d96d837dadd88dbd5   \n",
       "153           0  5652bc231dd43ca6ae0cce80734d722a8471c389   \n",
       "450           0  22825d08d3218cb0ac6f1637e8d48dc80d08a4cf   \n",
       "288           0  76683e22d554bf556ac7a4b8909b8c91e2d9e4af   \n",
       "228           0  78cd56f5fe1eb4e2bf873616d52c33b84f528e11   \n",
       "\n",
       "         production_date            country  \\\n",
       "468  2011-01-26 00:00:00               Chad   \n",
       "202  2011-02-15 00:00:00           Thailand   \n",
       "251  2011-02-17 00:00:00              Egypt   \n",
       "484  2011-02-21 00:00:00               Mali   \n",
       "274  2011-02-24 00:00:00          Hong Kong   \n",
       "..                   ...                ...   \n",
       "142  2021-04-13 00:00:00            Germany   \n",
       "153  2021-04-21 00:00:00            Germany   \n",
       "450  2021-04-25 00:00:00               Iran   \n",
       "288  2021-05-07 00:00:00  Equatorial Guinea   \n",
       "228  2021-05-12 00:00:00           Mosambik   \n",
       "\n",
       "                                      sales_code_array  \n",
       "468  Z5D, M2S, P9B, W9S, F6P, D7N, Z3K, V5A, O7B, A...  \n",
       "202  Z5D, M2N, N2I, F9W, Q0N, K7R, A5M, V6T, R5M, Z...  \n",
       "251  Z5E, M3D, P8Y, X4E, V6R, E3E, W7F, E3Z, C3P, C...  \n",
       "484  Z5D, M2R, Q4T, W4L, I8Z, I6L, U0A, R0S, Y1G, F...  \n",
       "274  Z5B, M1I, E5J, F8M, D9H, Y1E, P1D, P0S, Q6G, W...  \n",
       "..                                                 ...  \n",
       "142  Z5D, M2N, F8B, K6V, Z3V, M7R, C8S, J1V, T8A, D...  \n",
       "153  Z5C, M2E, N7W, E5G, B3H, R1Z, V5R, Z3U, Y4J, U...  \n",
       "450  Z5B, M1H, D2H, S5E, R2F, F3G, P5H, C9T, M1E, O...  \n",
       "288  Z5B, M1J, P0Y, Q6E, Q8L, Q4X, Y1X, Z0W, K1N, K...  \n",
       "228  Z5L, M3J, C7A, Q1B, Z0P, F5A, B4L, F6X, Q7Y, D...  \n",
       "\n",
       "[475 rows x 5 columns]"
      ]
     },
     "execution_count": 20,
     "metadata": {},
     "output_type": "execute_result"
    }
   ],
   "source": [
    "sales_codes"
   ]
  },
  {
   "cell_type": "code",
   "execution_count": 21,
   "id": "f3e11c05",
   "metadata": {},
   "outputs": [],
   "source": [
    "# Datumsformat ändern\n",
    "sales_codes['production_date'] = pd.to_datetime(sales_codes['production_date'], format='%Y-%m-%d %H:%M:%S')"
   ]
  },
  {
   "cell_type": "code",
   "execution_count": 22,
   "id": "c2f856fc",
   "metadata": {},
   "outputs": [
    {
     "data": {
      "text/plain": [
       "Unnamed: 0                   int64\n",
       "h_vehicle_hash              object\n",
       "production_date     datetime64[ns]\n",
       "country                     object\n",
       "sales_code_array            object\n",
       "dtype: object"
      ]
     },
     "execution_count": 22,
     "metadata": {},
     "output_type": "execute_result"
    }
   ],
   "source": [
    "sales_codes.dtypes"
   ]
  },
  {
   "cell_type": "markdown",
   "id": "ee3f6190",
   "metadata": {},
   "source": [
    "---"
   ]
  },
  {
   "cell_type": "markdown",
   "id": "e65d2bfa",
   "metadata": {},
   "source": [
    "# Tabellenblatt 2 öffnen, prüfen, bereinigen"
   ]
  },
  {
   "cell_type": "code",
   "execution_count": 23,
   "id": "b167a764",
   "metadata": {},
   "outputs": [],
   "source": [
    "vehicle_hash=pd.read_excel(\"vehicle_data.xlsx\", sheet_name=(\"vehicle_hash\"))"
   ]
  },
  {
   "cell_type": "code",
   "execution_count": 24,
   "id": "c8c9dc16",
   "metadata": {},
   "outputs": [
    {
     "data": {
      "text/html": [
       "<div>\n",
       "<style scoped>\n",
       "    .dataframe tbody tr th:only-of-type {\n",
       "        vertical-align: middle;\n",
       "    }\n",
       "\n",
       "    .dataframe tbody tr th {\n",
       "        vertical-align: top;\n",
       "    }\n",
       "\n",
       "    .dataframe thead th {\n",
       "        text-align: right;\n",
       "    }\n",
       "</style>\n",
       "<table border=\"1\" class=\"dataframe\">\n",
       "  <thead>\n",
       "    <tr style=\"text-align: right;\">\n",
       "      <th></th>\n",
       "      <th>Unnamed: 0</th>\n",
       "      <th>h_vehicle_hash</th>\n",
       "      <th>fin</th>\n",
       "      <th>record_source</th>\n",
       "      <th>load_ts</th>\n",
       "    </tr>\n",
       "  </thead>\n",
       "  <tbody>\n",
       "    <tr>\n",
       "      <th>0</th>\n",
       "      <td>0</td>\n",
       "      <td>924d229bede272c5a3b440c464cd1dfb74cae74d</td>\n",
       "      <td>WEB14561113188001</td>\n",
       "      <td>vedoc</td>\n",
       "      <td>2021-11-26 12:22:39.105133</td>\n",
       "    </tr>\n",
       "    <tr>\n",
       "      <th>1</th>\n",
       "      <td>0</td>\n",
       "      <td>3787a8db036dabd7433a32eaeeca8e5758bc3df8</td>\n",
       "      <td>W1T61600516560507</td>\n",
       "      <td>vedoc</td>\n",
       "      <td>2021-11-26 12:22:39.106127</td>\n",
       "    </tr>\n",
       "    <tr>\n",
       "      <th>2</th>\n",
       "      <td>0</td>\n",
       "      <td>aea31cdf4f575acf190626a50e927547e683d2ac</td>\n",
       "      <td>WEB74212637167838</td>\n",
       "      <td>vedoc</td>\n",
       "      <td>2021-11-26 12:22:39.106862</td>\n",
       "    </tr>\n",
       "    <tr>\n",
       "      <th>3</th>\n",
       "      <td>0</td>\n",
       "      <td>d92ed338496281e08443c88583be06128a2d4b42</td>\n",
       "      <td>WDB73045113294326</td>\n",
       "      <td>vedoc</td>\n",
       "      <td>2021-11-26 12:22:39.107558</td>\n",
       "    </tr>\n",
       "    <tr>\n",
       "      <th>4</th>\n",
       "      <td>0</td>\n",
       "      <td>7934c4872515da4b1c9648d01c0813f81c496aff</td>\n",
       "      <td>W1T38483757441350</td>\n",
       "      <td>vedoc</td>\n",
       "      <td>2021-11-26 12:22:39.108218</td>\n",
       "    </tr>\n",
       "  </tbody>\n",
       "</table>\n",
       "</div>"
      ],
      "text/plain": [
       "   Unnamed: 0                            h_vehicle_hash                fin  \\\n",
       "0           0  924d229bede272c5a3b440c464cd1dfb74cae74d  WEB14561113188001   \n",
       "1           0  3787a8db036dabd7433a32eaeeca8e5758bc3df8  W1T61600516560507   \n",
       "2           0  aea31cdf4f575acf190626a50e927547e683d2ac  WEB74212637167838   \n",
       "3           0  d92ed338496281e08443c88583be06128a2d4b42  WDB73045113294326   \n",
       "4           0  7934c4872515da4b1c9648d01c0813f81c496aff  W1T38483757441350   \n",
       "\n",
       "  record_source                     load_ts  \n",
       "0         vedoc  2021-11-26 12:22:39.105133  \n",
       "1         vedoc  2021-11-26 12:22:39.106127  \n",
       "2         vedoc  2021-11-26 12:22:39.106862  \n",
       "3         vedoc  2021-11-26 12:22:39.107558  \n",
       "4         vedoc  2021-11-26 12:22:39.108218  "
      ]
     },
     "execution_count": 24,
     "metadata": {},
     "output_type": "execute_result"
    }
   ],
   "source": [
    "vehicle_hash.head()"
   ]
  },
  {
   "cell_type": "code",
   "execution_count": 25,
   "id": "800038d7",
   "metadata": {
    "scrolled": true
   },
   "outputs": [
    {
     "data": {
      "text/plain": [
       "(500, 5)"
      ]
     },
     "execution_count": 25,
     "metadata": {},
     "output_type": "execute_result"
    }
   ],
   "source": [
    "vehicle_hash.shape"
   ]
  },
  {
   "cell_type": "code",
   "execution_count": 26,
   "id": "70c79edd",
   "metadata": {
    "scrolled": true
   },
   "outputs": [
    {
     "data": {
      "text/plain": [
       "Index(['Unnamed: 0', 'h_vehicle_hash', 'fin', 'record_source', 'load_ts'], dtype='object')"
      ]
     },
     "execution_count": 26,
     "metadata": {},
     "output_type": "execute_result"
    }
   ],
   "source": [
    "vehicle_hash.columns"
   ]
  },
  {
   "cell_type": "code",
   "execution_count": 27,
   "id": "cba81261",
   "metadata": {},
   "outputs": [
    {
     "data": {
      "text/plain": [
       "Unnamed: 0         int64\n",
       "h_vehicle_hash    object\n",
       "fin               object\n",
       "record_source     object\n",
       "load_ts           object\n",
       "dtype: object"
      ]
     },
     "execution_count": 27,
     "metadata": {},
     "output_type": "execute_result"
    }
   ],
   "source": [
    "vehicle_hash.dtypes"
   ]
  },
  {
   "cell_type": "code",
   "execution_count": 28,
   "id": "6655c65c",
   "metadata": {},
   "outputs": [
    {
     "data": {
      "text/plain": [
       "Unnamed: 0        0\n",
       "h_vehicle_hash    0\n",
       "fin               0\n",
       "record_source     0\n",
       "load_ts           0\n",
       "dtype: int64"
      ]
     },
     "execution_count": 28,
     "metadata": {},
     "output_type": "execute_result"
    }
   ],
   "source": [
    "vehicle_hash.isnull( ).sum( )"
   ]
  },
  {
   "cell_type": "markdown",
   "id": "a5e8fcf6",
   "metadata": {},
   "source": [
    "---"
   ]
  },
  {
   "cell_type": "markdown",
   "id": "822d5b0d",
   "metadata": {},
   "source": [
    "# Tabellenblatt 3 öffnen, prüfen, bereinigen"
   ]
  },
  {
   "cell_type": "code",
   "execution_count": 29,
   "id": "cd1d766f",
   "metadata": {},
   "outputs": [],
   "source": [
    "engines=pd.read_excel(\"vehicle_data.xlsx\", sheet_name=(\"engines\"))"
   ]
  },
  {
   "cell_type": "code",
   "execution_count": 69,
   "id": "07389acb",
   "metadata": {},
   "outputs": [
    {
     "data": {
      "text/html": [
       "<div>\n",
       "<style scoped>\n",
       "    .dataframe tbody tr th:only-of-type {\n",
       "        vertical-align: middle;\n",
       "    }\n",
       "\n",
       "    .dataframe tbody tr th {\n",
       "        vertical-align: top;\n",
       "    }\n",
       "\n",
       "    .dataframe thead th {\n",
       "        text-align: right;\n",
       "    }\n",
       "</style>\n",
       "<table border=\"1\" class=\"dataframe\">\n",
       "  <thead>\n",
       "    <tr style=\"text-align: right;\">\n",
       "      <th></th>\n",
       "      <th>Code Group Id</th>\n",
       "      <th>Code Group Name En</th>\n",
       "      <th>Code Group Name De</th>\n",
       "      <th>Folder Name</th>\n",
       "      <th>Sales Code</th>\n",
       "      <th>Code Description En</th>\n",
       "      <th>motor_code</th>\n",
       "    </tr>\n",
       "  </thead>\n",
       "  <tbody>\n",
       "    <tr>\n",
       "      <th>0</th>\n",
       "      <td>131</td>\n",
       "      <td>powertrain engine series</td>\n",
       "      <td>motor baureihe</td>\n",
       "      <td>06 Powertrain</td>\n",
       "      <td>M0I</td>\n",
       "      <td>OM 924</td>\n",
       "      <td>OM 924</td>\n",
       "    </tr>\n",
       "    <tr>\n",
       "      <th>1</th>\n",
       "      <td>131</td>\n",
       "      <td>powertrain engine series</td>\n",
       "      <td>motor baureihe</td>\n",
       "      <td>06 Powertrain</td>\n",
       "      <td>M0J</td>\n",
       "      <td>OM 926</td>\n",
       "      <td>OM 926</td>\n",
       "    </tr>\n",
       "    <tr>\n",
       "      <th>2</th>\n",
       "      <td>131</td>\n",
       "      <td>powertrain engine series</td>\n",
       "      <td>motor baureihe</td>\n",
       "      <td>06 Powertrain</td>\n",
       "      <td>Z5A</td>\n",
       "      <td>M 936G</td>\n",
       "      <td>M 936G</td>\n",
       "    </tr>\n",
       "    <tr>\n",
       "      <th>3</th>\n",
       "      <td>131</td>\n",
       "      <td>powertrain engine series</td>\n",
       "      <td>motor baureihe</td>\n",
       "      <td>06 Powertrain</td>\n",
       "      <td>Z5B</td>\n",
       "      <td>OM 934</td>\n",
       "      <td>OM 934</td>\n",
       "    </tr>\n",
       "    <tr>\n",
       "      <th>4</th>\n",
       "      <td>131</td>\n",
       "      <td>powertrain engine series</td>\n",
       "      <td>motor baureihe</td>\n",
       "      <td>06 Powertrain</td>\n",
       "      <td>Z5C</td>\n",
       "      <td>OM 936</td>\n",
       "      <td>OM 936</td>\n",
       "    </tr>\n",
       "  </tbody>\n",
       "</table>\n",
       "</div>"
      ],
      "text/plain": [
       "   Code Group Id       Code Group Name En  Code Group Name De     Folder Name  \\\n",
       "0            131  powertrain engine series      motor baureihe  06 Powertrain   \n",
       "1            131  powertrain engine series      motor baureihe  06 Powertrain   \n",
       "2            131  powertrain engine series      motor baureihe  06 Powertrain   \n",
       "3            131  powertrain engine series      motor baureihe  06 Powertrain   \n",
       "4            131  powertrain engine series      motor baureihe  06 Powertrain   \n",
       "\n",
       "  Sales Code Code Description En motor_code  \n",
       "0        M0I              OM 924     OM 924  \n",
       "1        M0J              OM 926     OM 926  \n",
       "2        Z5A              M 936G     M 936G  \n",
       "3        Z5B              OM 934     OM 934  \n",
       "4        Z5C              OM 936     OM 936  "
      ]
     },
     "execution_count": 69,
     "metadata": {},
     "output_type": "execute_result"
    }
   ],
   "source": [
    "# Umbenneung des Motorcodes zur späteren Weiterverarbeitung\n",
    "engines.rename(columns = {'Code Description De':'motor_code'}, inplace = True)\n",
    "engines.head()"
   ]
  },
  {
   "cell_type": "code",
   "execution_count": 31,
   "id": "853d26fb",
   "metadata": {},
   "outputs": [
    {
     "data": {
      "text/plain": [
       "(9, 7)"
      ]
     },
     "execution_count": 31,
     "metadata": {},
     "output_type": "execute_result"
    }
   ],
   "source": [
    "engines.shape"
   ]
  },
  {
   "cell_type": "code",
   "execution_count": 32,
   "id": "4ebdccc9",
   "metadata": {
    "scrolled": true
   },
   "outputs": [
    {
     "data": {
      "text/plain": [
       "Code Group Id           int64\n",
       "Code Group Name En     object\n",
       "Code Group Name De     object\n",
       "Folder Name            object\n",
       "Sales Code             object\n",
       "Code Description En    object\n",
       "motor_code             object\n",
       "dtype: object"
      ]
     },
     "execution_count": 32,
     "metadata": {},
     "output_type": "execute_result"
    }
   ],
   "source": [
    "engines.dtypes"
   ]
  },
  {
   "cell_type": "code",
   "execution_count": 33,
   "id": "b0eeefb1",
   "metadata": {},
   "outputs": [],
   "source": [
    "# Für das Lösen der Motorfragen, benötigt man zur Bestimmung die ersten 3 Ziffern des 'sales_code_array'\n",
    "sales_codes['Sales Code'] = sales_codes['sales_code_array'].str.slice(stop=3)"
   ]
  },
  {
   "cell_type": "code",
   "execution_count": 34,
   "id": "e92799b6",
   "metadata": {
    "scrolled": true
   },
   "outputs": [
    {
     "data": {
      "text/html": [
       "<div>\n",
       "<style scoped>\n",
       "    .dataframe tbody tr th:only-of-type {\n",
       "        vertical-align: middle;\n",
       "    }\n",
       "\n",
       "    .dataframe tbody tr th {\n",
       "        vertical-align: top;\n",
       "    }\n",
       "\n",
       "    .dataframe thead th {\n",
       "        text-align: right;\n",
       "    }\n",
       "</style>\n",
       "<table border=\"1\" class=\"dataframe\">\n",
       "  <thead>\n",
       "    <tr style=\"text-align: right;\">\n",
       "      <th></th>\n",
       "      <th>Unnamed: 0</th>\n",
       "      <th>h_vehicle_hash</th>\n",
       "      <th>production_date</th>\n",
       "      <th>country</th>\n",
       "      <th>sales_code_array</th>\n",
       "      <th>Sales Code</th>\n",
       "    </tr>\n",
       "  </thead>\n",
       "  <tbody>\n",
       "    <tr>\n",
       "      <th>468</th>\n",
       "      <td>0</td>\n",
       "      <td>067ecbfc7cdeab1abfb340d1e3a99463966920c4</td>\n",
       "      <td>2011-01-26</td>\n",
       "      <td>Chad</td>\n",
       "      <td>Z5D, M2S, P9B, W9S, F6P, D7N, Z3K, V5A, O7B, A...</td>\n",
       "      <td>Z5D</td>\n",
       "    </tr>\n",
       "    <tr>\n",
       "      <th>202</th>\n",
       "      <td>0</td>\n",
       "      <td>5e001b6fd94922709a5f23c881c737fe28668b3e</td>\n",
       "      <td>2011-02-15</td>\n",
       "      <td>Thailand</td>\n",
       "      <td>Z5D, M2N, N2I, F9W, Q0N, K7R, A5M, V6T, R5M, Z...</td>\n",
       "      <td>Z5D</td>\n",
       "    </tr>\n",
       "    <tr>\n",
       "      <th>251</th>\n",
       "      <td>0</td>\n",
       "      <td>8b95dc5e5dc3dfb9465dfc2c2a0a3b9ccefd7bd1</td>\n",
       "      <td>2011-02-17</td>\n",
       "      <td>Egypt</td>\n",
       "      <td>Z5E, M3D, P8Y, X4E, V6R, E3E, W7F, E3Z, C3P, C...</td>\n",
       "      <td>Z5E</td>\n",
       "    </tr>\n",
       "  </tbody>\n",
       "</table>\n",
       "</div>"
      ],
      "text/plain": [
       "     Unnamed: 0                            h_vehicle_hash production_date  \\\n",
       "468           0  067ecbfc7cdeab1abfb340d1e3a99463966920c4      2011-01-26   \n",
       "202           0  5e001b6fd94922709a5f23c881c737fe28668b3e      2011-02-15   \n",
       "251           0  8b95dc5e5dc3dfb9465dfc2c2a0a3b9ccefd7bd1      2011-02-17   \n",
       "\n",
       "      country                                   sales_code_array Sales Code  \n",
       "468      Chad  Z5D, M2S, P9B, W9S, F6P, D7N, Z3K, V5A, O7B, A...        Z5D  \n",
       "202  Thailand  Z5D, M2N, N2I, F9W, Q0N, K7R, A5M, V6T, R5M, Z...        Z5D  \n",
       "251     Egypt  Z5E, M3D, P8Y, X4E, V6R, E3E, W7F, E3Z, C3P, C...        Z5E  "
      ]
     },
     "execution_count": 34,
     "metadata": {},
     "output_type": "execute_result"
    }
   ],
   "source": [
    "sales_codes.head(3)"
   ]
  },
  {
   "cell_type": "code",
   "execution_count": 35,
   "id": "fbc4b4ac",
   "metadata": {},
   "outputs": [],
   "source": [
    "# Merge \"sales_codes\" mit \"engines\" um an die Motordaten zu kommen!!!\n",
    "sales_merged = pd.merge(left=sales_codes, right=engines, how=\"left\", on=\"Sales Code\")"
   ]
  },
  {
   "cell_type": "code",
   "execution_count": 36,
   "id": "90979c23",
   "metadata": {},
   "outputs": [
    {
     "data": {
      "text/html": [
       "<div>\n",
       "<style scoped>\n",
       "    .dataframe tbody tr th:only-of-type {\n",
       "        vertical-align: middle;\n",
       "    }\n",
       "\n",
       "    .dataframe tbody tr th {\n",
       "        vertical-align: top;\n",
       "    }\n",
       "\n",
       "    .dataframe thead th {\n",
       "        text-align: right;\n",
       "    }\n",
       "</style>\n",
       "<table border=\"1\" class=\"dataframe\">\n",
       "  <thead>\n",
       "    <tr style=\"text-align: right;\">\n",
       "      <th></th>\n",
       "      <th>Unnamed: 0</th>\n",
       "      <th>h_vehicle_hash</th>\n",
       "      <th>production_date</th>\n",
       "      <th>country</th>\n",
       "      <th>sales_code_array</th>\n",
       "      <th>Sales Code</th>\n",
       "      <th>Code Group Id</th>\n",
       "      <th>Code Group Name En</th>\n",
       "      <th>Code Group Name De</th>\n",
       "      <th>Folder Name</th>\n",
       "      <th>Code Description En</th>\n",
       "      <th>motor_code</th>\n",
       "    </tr>\n",
       "  </thead>\n",
       "  <tbody>\n",
       "    <tr>\n",
       "      <th>0</th>\n",
       "      <td>0</td>\n",
       "      <td>067ecbfc7cdeab1abfb340d1e3a99463966920c4</td>\n",
       "      <td>2011-01-26</td>\n",
       "      <td>Chad</td>\n",
       "      <td>Z5D, M2S, P9B, W9S, F6P, D7N, Z3K, V5A, O7B, A...</td>\n",
       "      <td>Z5D</td>\n",
       "      <td>131</td>\n",
       "      <td>powertrain engine series</td>\n",
       "      <td>motor baureihe</td>\n",
       "      <td>06 Powertrain</td>\n",
       "      <td>OM 470</td>\n",
       "      <td>OM 470</td>\n",
       "    </tr>\n",
       "    <tr>\n",
       "      <th>1</th>\n",
       "      <td>0</td>\n",
       "      <td>5e001b6fd94922709a5f23c881c737fe28668b3e</td>\n",
       "      <td>2011-02-15</td>\n",
       "      <td>Thailand</td>\n",
       "      <td>Z5D, M2N, N2I, F9W, Q0N, K7R, A5M, V6T, R5M, Z...</td>\n",
       "      <td>Z5D</td>\n",
       "      <td>131</td>\n",
       "      <td>powertrain engine series</td>\n",
       "      <td>motor baureihe</td>\n",
       "      <td>06 Powertrain</td>\n",
       "      <td>OM 470</td>\n",
       "      <td>OM 470</td>\n",
       "    </tr>\n",
       "    <tr>\n",
       "      <th>2</th>\n",
       "      <td>0</td>\n",
       "      <td>8b95dc5e5dc3dfb9465dfc2c2a0a3b9ccefd7bd1</td>\n",
       "      <td>2011-02-17</td>\n",
       "      <td>Egypt</td>\n",
       "      <td>Z5E, M3D, P8Y, X4E, V6R, E3E, W7F, E3Z, C3P, C...</td>\n",
       "      <td>Z5E</td>\n",
       "      <td>131</td>\n",
       "      <td>powertrain engine series</td>\n",
       "      <td>motor baureihe</td>\n",
       "      <td>06 Powertrain</td>\n",
       "      <td>OM 471</td>\n",
       "      <td>OM 471</td>\n",
       "    </tr>\n",
       "  </tbody>\n",
       "</table>\n",
       "</div>"
      ],
      "text/plain": [
       "   Unnamed: 0                            h_vehicle_hash production_date  \\\n",
       "0           0  067ecbfc7cdeab1abfb340d1e3a99463966920c4      2011-01-26   \n",
       "1           0  5e001b6fd94922709a5f23c881c737fe28668b3e      2011-02-15   \n",
       "2           0  8b95dc5e5dc3dfb9465dfc2c2a0a3b9ccefd7bd1      2011-02-17   \n",
       "\n",
       "    country                                   sales_code_array Sales Code  \\\n",
       "0      Chad  Z5D, M2S, P9B, W9S, F6P, D7N, Z3K, V5A, O7B, A...        Z5D   \n",
       "1  Thailand  Z5D, M2N, N2I, F9W, Q0N, K7R, A5M, V6T, R5M, Z...        Z5D   \n",
       "2     Egypt  Z5E, M3D, P8Y, X4E, V6R, E3E, W7F, E3Z, C3P, C...        Z5E   \n",
       "\n",
       "   Code Group Id       Code Group Name En  Code Group Name De     Folder Name  \\\n",
       "0            131  powertrain engine series      motor baureihe  06 Powertrain   \n",
       "1            131  powertrain engine series      motor baureihe  06 Powertrain   \n",
       "2            131  powertrain engine series      motor baureihe  06 Powertrain   \n",
       "\n",
       "  Code Description En motor_code  \n",
       "0              OM 470     OM 470  \n",
       "1              OM 470     OM 470  \n",
       "2              OM 471     OM 471  "
      ]
     },
     "execution_count": 36,
     "metadata": {},
     "output_type": "execute_result"
    }
   ],
   "source": [
    "sales_merged.head(3)"
   ]
  },
  {
   "cell_type": "code",
   "execution_count": 37,
   "id": "2fdd5117",
   "metadata": {},
   "outputs": [],
   "source": [
    "# Merge \"sales_codes\" und \"vehicle_hash\" mit \"h_vehicle_hash\"\n",
    "df_merged = pd.merge(left=sales_merged, right=vehicle_hash, how=\"left\", on=\"h_vehicle_hash\")"
   ]
  },
  {
   "cell_type": "code",
   "execution_count": 38,
   "id": "25b557dc",
   "metadata": {},
   "outputs": [
    {
     "data": {
      "text/html": [
       "<div>\n",
       "<style scoped>\n",
       "    .dataframe tbody tr th:only-of-type {\n",
       "        vertical-align: middle;\n",
       "    }\n",
       "\n",
       "    .dataframe tbody tr th {\n",
       "        vertical-align: top;\n",
       "    }\n",
       "\n",
       "    .dataframe thead th {\n",
       "        text-align: right;\n",
       "    }\n",
       "</style>\n",
       "<table border=\"1\" class=\"dataframe\">\n",
       "  <thead>\n",
       "    <tr style=\"text-align: right;\">\n",
       "      <th></th>\n",
       "      <th>Unnamed: 0_x</th>\n",
       "      <th>h_vehicle_hash</th>\n",
       "      <th>production_date</th>\n",
       "      <th>country</th>\n",
       "      <th>sales_code_array</th>\n",
       "      <th>Sales Code</th>\n",
       "      <th>Code Group Id</th>\n",
       "      <th>Code Group Name En</th>\n",
       "      <th>Code Group Name De</th>\n",
       "      <th>Folder Name</th>\n",
       "      <th>Code Description En</th>\n",
       "      <th>motor_code</th>\n",
       "      <th>Unnamed: 0_y</th>\n",
       "      <th>fin</th>\n",
       "      <th>record_source</th>\n",
       "      <th>load_ts</th>\n",
       "    </tr>\n",
       "  </thead>\n",
       "  <tbody>\n",
       "    <tr>\n",
       "      <th>0</th>\n",
       "      <td>0</td>\n",
       "      <td>067ecbfc7cdeab1abfb340d1e3a99463966920c4</td>\n",
       "      <td>2011-01-26</td>\n",
       "      <td>Chad</td>\n",
       "      <td>Z5D, M2S, P9B, W9S, F6P, D7N, Z3K, V5A, O7B, A...</td>\n",
       "      <td>Z5D</td>\n",
       "      <td>131</td>\n",
       "      <td>powertrain engine series</td>\n",
       "      <td>motor baureihe</td>\n",
       "      <td>06 Powertrain</td>\n",
       "      <td>OM 470</td>\n",
       "      <td>OM 470</td>\n",
       "      <td>0</td>\n",
       "      <td>WEB36004609995198</td>\n",
       "      <td>vedoc</td>\n",
       "      <td>2021-11-26 12:22:39.380411</td>\n",
       "    </tr>\n",
       "    <tr>\n",
       "      <th>1</th>\n",
       "      <td>0</td>\n",
       "      <td>5e001b6fd94922709a5f23c881c737fe28668b3e</td>\n",
       "      <td>2011-02-15</td>\n",
       "      <td>Thailand</td>\n",
       "      <td>Z5D, M2N, N2I, F9W, Q0N, K7R, A5M, V6T, R5M, Z...</td>\n",
       "      <td>Z5D</td>\n",
       "      <td>131</td>\n",
       "      <td>powertrain engine series</td>\n",
       "      <td>motor baureihe</td>\n",
       "      <td>06 Powertrain</td>\n",
       "      <td>OM 470</td>\n",
       "      <td>OM 470</td>\n",
       "      <td>0</td>\n",
       "      <td>WDB51365356505806</td>\n",
       "      <td>vedoc</td>\n",
       "      <td>2021-11-26 12:22:39.224951</td>\n",
       "    </tr>\n",
       "    <tr>\n",
       "      <th>2</th>\n",
       "      <td>0</td>\n",
       "      <td>8b95dc5e5dc3dfb9465dfc2c2a0a3b9ccefd7bd1</td>\n",
       "      <td>2011-02-17</td>\n",
       "      <td>Egypt</td>\n",
       "      <td>Z5E, M3D, P8Y, X4E, V6R, E3E, W7F, E3Z, C3P, C...</td>\n",
       "      <td>Z5E</td>\n",
       "      <td>131</td>\n",
       "      <td>powertrain engine series</td>\n",
       "      <td>motor baureihe</td>\n",
       "      <td>06 Powertrain</td>\n",
       "      <td>OM 471</td>\n",
       "      <td>OM 471</td>\n",
       "      <td>0</td>\n",
       "      <td>NMB95308052202666</td>\n",
       "      <td>vedoc</td>\n",
       "      <td>2021-11-26 12:22:39.253534</td>\n",
       "    </tr>\n",
       "  </tbody>\n",
       "</table>\n",
       "</div>"
      ],
      "text/plain": [
       "   Unnamed: 0_x                            h_vehicle_hash production_date  \\\n",
       "0             0  067ecbfc7cdeab1abfb340d1e3a99463966920c4      2011-01-26   \n",
       "1             0  5e001b6fd94922709a5f23c881c737fe28668b3e      2011-02-15   \n",
       "2             0  8b95dc5e5dc3dfb9465dfc2c2a0a3b9ccefd7bd1      2011-02-17   \n",
       "\n",
       "    country                                   sales_code_array Sales Code  \\\n",
       "0      Chad  Z5D, M2S, P9B, W9S, F6P, D7N, Z3K, V5A, O7B, A...        Z5D   \n",
       "1  Thailand  Z5D, M2N, N2I, F9W, Q0N, K7R, A5M, V6T, R5M, Z...        Z5D   \n",
       "2     Egypt  Z5E, M3D, P8Y, X4E, V6R, E3E, W7F, E3Z, C3P, C...        Z5E   \n",
       "\n",
       "   Code Group Id       Code Group Name En  Code Group Name De     Folder Name  \\\n",
       "0            131  powertrain engine series      motor baureihe  06 Powertrain   \n",
       "1            131  powertrain engine series      motor baureihe  06 Powertrain   \n",
       "2            131  powertrain engine series      motor baureihe  06 Powertrain   \n",
       "\n",
       "  Code Description En motor_code  Unnamed: 0_y                fin  \\\n",
       "0              OM 470     OM 470             0  WEB36004609995198   \n",
       "1              OM 470     OM 470             0  WDB51365356505806   \n",
       "2              OM 471     OM 471             0  NMB95308052202666   \n",
       "\n",
       "  record_source                     load_ts  \n",
       "0         vedoc  2021-11-26 12:22:39.380411  \n",
       "1         vedoc  2021-11-26 12:22:39.224951  \n",
       "2         vedoc  2021-11-26 12:22:39.253534  "
      ]
     },
     "execution_count": 38,
     "metadata": {},
     "output_type": "execute_result"
    }
   ],
   "source": [
    "df_merged.head(3)"
   ]
  },
  {
   "cell_type": "code",
   "execution_count": 39,
   "id": "7b926e71",
   "metadata": {},
   "outputs": [
    {
     "data": {
      "text/plain": [
       "(475, 16)"
      ]
     },
     "execution_count": 39,
     "metadata": {},
     "output_type": "execute_result"
    }
   ],
   "source": [
    "df_merged.shape"
   ]
  },
  {
   "cell_type": "code",
   "execution_count": 40,
   "id": "941794a3",
   "metadata": {},
   "outputs": [
    {
     "data": {
      "text/plain": [
       "Index(['Unnamed: 0_x', 'h_vehicle_hash', 'production_date', 'country',\n",
       "       'sales_code_array', 'Sales Code', 'Code Group Id',\n",
       "       'Code Group Name En ', 'Code Group Name De ', 'Folder Name',\n",
       "       'Code Description En', 'motor_code', 'Unnamed: 0_y', 'fin',\n",
       "       'record_source', 'load_ts'],\n",
       "      dtype='object')"
      ]
     },
     "execution_count": 40,
     "metadata": {},
     "output_type": "execute_result"
    }
   ],
   "source": [
    "df_merged.columns"
   ]
  },
  {
   "cell_type": "code",
   "execution_count": 41,
   "id": "0a134d5f",
   "metadata": {},
   "outputs": [],
   "source": [
    "neu=df_merged[['production_date','country','fin', 'motor_code',\n",
    "       'sales_code_array']]"
   ]
  },
  {
   "cell_type": "code",
   "execution_count": 42,
   "id": "958d7052",
   "metadata": {
    "scrolled": true
   },
   "outputs": [
    {
     "data": {
      "text/html": [
       "<div>\n",
       "<style scoped>\n",
       "    .dataframe tbody tr th:only-of-type {\n",
       "        vertical-align: middle;\n",
       "    }\n",
       "\n",
       "    .dataframe tbody tr th {\n",
       "        vertical-align: top;\n",
       "    }\n",
       "\n",
       "    .dataframe thead th {\n",
       "        text-align: right;\n",
       "    }\n",
       "</style>\n",
       "<table border=\"1\" class=\"dataframe\">\n",
       "  <thead>\n",
       "    <tr style=\"text-align: right;\">\n",
       "      <th></th>\n",
       "      <th>production_date</th>\n",
       "      <th>country</th>\n",
       "      <th>fin</th>\n",
       "      <th>motor_code</th>\n",
       "      <th>sales_code_array</th>\n",
       "    </tr>\n",
       "  </thead>\n",
       "  <tbody>\n",
       "    <tr>\n",
       "      <th>0</th>\n",
       "      <td>2011-01-26</td>\n",
       "      <td>Chad</td>\n",
       "      <td>WEB36004609995198</td>\n",
       "      <td>OM 470</td>\n",
       "      <td>Z5D, M2S, P9B, W9S, F6P, D7N, Z3K, V5A, O7B, A...</td>\n",
       "    </tr>\n",
       "    <tr>\n",
       "      <th>1</th>\n",
       "      <td>2011-02-15</td>\n",
       "      <td>Thailand</td>\n",
       "      <td>WDB51365356505806</td>\n",
       "      <td>OM 470</td>\n",
       "      <td>Z5D, M2N, N2I, F9W, Q0N, K7R, A5M, V6T, R5M, Z...</td>\n",
       "    </tr>\n",
       "    <tr>\n",
       "      <th>2</th>\n",
       "      <td>2011-02-17</td>\n",
       "      <td>Egypt</td>\n",
       "      <td>NMB95308052202666</td>\n",
       "      <td>OM 471</td>\n",
       "      <td>Z5E, M3D, P8Y, X4E, V6R, E3E, W7F, E3Z, C3P, C...</td>\n",
       "    </tr>\n",
       "  </tbody>\n",
       "</table>\n",
       "</div>"
      ],
      "text/plain": [
       "  production_date   country                fin motor_code  \\\n",
       "0      2011-01-26      Chad  WEB36004609995198     OM 470   \n",
       "1      2011-02-15  Thailand  WDB51365356505806     OM 470   \n",
       "2      2011-02-17     Egypt  NMB95308052202666     OM 471   \n",
       "\n",
       "                                    sales_code_array  \n",
       "0  Z5D, M2S, P9B, W9S, F6P, D7N, Z3K, V5A, O7B, A...  \n",
       "1  Z5D, M2N, N2I, F9W, Q0N, K7R, A5M, V6T, R5M, Z...  \n",
       "2  Z5E, M3D, P8Y, X4E, V6R, E3E, W7F, E3Z, C3P, C...  "
      ]
     },
     "execution_count": 42,
     "metadata": {},
     "output_type": "execute_result"
    }
   ],
   "source": [
    "neu.head(3)"
   ]
  },
  {
   "cell_type": "code",
   "execution_count": null,
   "id": "bee69bfa",
   "metadata": {},
   "outputs": [],
   "source": []
  },
  {
   "cell_type": "code",
   "execution_count": 43,
   "id": "c8cb490d",
   "metadata": {},
   "outputs": [
    {
     "data": {
      "text/plain": [
       "(475, 5)"
      ]
     },
     "execution_count": 43,
     "metadata": {},
     "output_type": "execute_result"
    }
   ],
   "source": [
    "neu.shape"
   ]
  },
  {
   "cell_type": "markdown",
   "id": "0a1197a1",
   "metadata": {},
   "source": [
    "---"
   ]
  },
  {
   "cell_type": "markdown",
   "id": "5ec884f8",
   "metadata": {},
   "source": [
    "# Aufgaben lösen:\n",
    "\n",
    "# Welches sind die top drei Länder, in die wir zwischen 01.01.2014 und 31.12.2020 am meisten Fahrzeuge verkauft haben?\n",
    "\n",
    "# In welchem dieser Jahre haben wir insgesamt am meisten Fahrzeuge verkauft? \n",
    "\n",
    "# Welche FIN hat das zeitlich erste verkaufte Fahrzeug?\n",
    "\n",
    "# Wie viele Fahrzeuge wurden zwischen 01.01.2017 und 01.01.2021 mit OM934, OM936, OM470 und OM471 Motoren verkauft?\n",
    "\n",
    "# Welche Fahrzeuge (FIN) wurden zwischen 01.01.2017 und 01.01.2021 und mit OM936 Motor nach Neuseeland verkauft?"
   ]
  },
  {
   "cell_type": "markdown",
   "id": "6b2baeb9",
   "metadata": {},
   "source": [
    "---"
   ]
  },
  {
   "cell_type": "code",
   "execution_count": 44,
   "id": "e4bc2c2d",
   "metadata": {},
   "outputs": [],
   "source": [
    "# Welches sind die top drei Länder, in die wir zwischen 01.01.2014 und 31.12.2020 am meisten Fahrzeuge verkauft haben?"
   ]
  },
  {
   "cell_type": "code",
   "execution_count": 45,
   "id": "6943c3ce",
   "metadata": {
    "scrolled": false
   },
   "outputs": [
    {
     "data": {
      "text/html": [
       "<div>\n",
       "<style scoped>\n",
       "    .dataframe tbody tr th:only-of-type {\n",
       "        vertical-align: middle;\n",
       "    }\n",
       "\n",
       "    .dataframe tbody tr th {\n",
       "        vertical-align: top;\n",
       "    }\n",
       "\n",
       "    .dataframe thead th {\n",
       "        text-align: right;\n",
       "    }\n",
       "</style>\n",
       "<table border=\"1\" class=\"dataframe\">\n",
       "  <thead>\n",
       "    <tr style=\"text-align: right;\">\n",
       "      <th></th>\n",
       "      <th>production_date</th>\n",
       "      <th>country</th>\n",
       "      <th>fin</th>\n",
       "      <th>motor_code</th>\n",
       "      <th>sales_code_array</th>\n",
       "    </tr>\n",
       "  </thead>\n",
       "  <tbody>\n",
       "    <tr>\n",
       "      <th>0</th>\n",
       "      <td>2011-01-26</td>\n",
       "      <td>Chad</td>\n",
       "      <td>WEB36004609995198</td>\n",
       "      <td>OM 470</td>\n",
       "      <td>Z5D, M2S, P9B, W9S, F6P, D7N, Z3K, V5A, O7B, A...</td>\n",
       "    </tr>\n",
       "    <tr>\n",
       "      <th>1</th>\n",
       "      <td>2011-02-15</td>\n",
       "      <td>Thailand</td>\n",
       "      <td>WDB51365356505806</td>\n",
       "      <td>OM 470</td>\n",
       "      <td>Z5D, M2N, N2I, F9W, Q0N, K7R, A5M, V6T, R5M, Z...</td>\n",
       "    </tr>\n",
       "    <tr>\n",
       "      <th>2</th>\n",
       "      <td>2011-02-17</td>\n",
       "      <td>Egypt</td>\n",
       "      <td>NMB95308052202666</td>\n",
       "      <td>OM 471</td>\n",
       "      <td>Z5E, M3D, P8Y, X4E, V6R, E3E, W7F, E3Z, C3P, C...</td>\n",
       "    </tr>\n",
       "  </tbody>\n",
       "</table>\n",
       "</div>"
      ],
      "text/plain": [
       "  production_date   country                fin motor_code  \\\n",
       "0      2011-01-26      Chad  WEB36004609995198     OM 470   \n",
       "1      2011-02-15  Thailand  WDB51365356505806     OM 470   \n",
       "2      2011-02-17     Egypt  NMB95308052202666     OM 471   \n",
       "\n",
       "                                    sales_code_array  \n",
       "0  Z5D, M2S, P9B, W9S, F6P, D7N, Z3K, V5A, O7B, A...  \n",
       "1  Z5D, M2N, N2I, F9W, Q0N, K7R, A5M, V6T, R5M, Z...  \n",
       "2  Z5E, M3D, P8Y, X4E, V6R, E3E, W7F, E3Z, C3P, C...  "
      ]
     },
     "execution_count": 45,
     "metadata": {},
     "output_type": "execute_result"
    }
   ],
   "source": [
    "neu.head(3)"
   ]
  },
  {
   "cell_type": "code",
   "execution_count": 46,
   "id": "0e52caa5",
   "metadata": {},
   "outputs": [],
   "source": [
    "top_countries = neu[(neu['production_date'] >= '2014-01-01') & (neu['production_date'] <= '2020-12-31')].groupby('country')['fin'].count().nlargest(3)\n"
   ]
  },
  {
   "cell_type": "code",
   "execution_count": 47,
   "id": "8df7cab7",
   "metadata": {
    "scrolled": true
   },
   "outputs": [
    {
     "data": {
      "text/plain": [
       "country\n",
       "Germany       81\n",
       "Costa Rica     4\n",
       "Dominica       4\n",
       "Name: fin, dtype: int64"
      ]
     },
     "execution_count": 47,
     "metadata": {},
     "output_type": "execute_result"
    }
   ],
   "source": [
    "top_countries"
   ]
  },
  {
   "cell_type": "markdown",
   "id": "9cb04541",
   "metadata": {},
   "source": [
    "# Zwischen dem 1.1.2014 und 31.12.2020 wurden 81 Fahrzeuge nach Deutschland und jeweils 4 nach Costa Rica und in die dominikanische Republik verkauft."
   ]
  },
  {
   "cell_type": "code",
   "execution_count": 48,
   "id": "c5f8794b",
   "metadata": {},
   "outputs": [
    {
     "data": {
      "image/png": "[encoded data removed]",
      "text/plain": [
       "<Figure size 640x480 with 1 Axes>"
      ]
     },
     "metadata": {},
     "output_type": "display_data"
    }
   ],
   "source": [
    "plt.bar(top_countries.index, top_countries.values)\n",
    "plt.title('Top 3 Länder nach Verkaufszahlen')\n",
    "plt.xlabel('Land')\n",
    "plt.ylabel('Verkaufszahlen')\n",
    "plt.show()"
   ]
  },
  {
   "cell_type": "markdown",
   "id": "0b1ba7c4",
   "metadata": {},
   "source": [
    "-----------"
   ]
  },
  {
   "cell_type": "code",
   "execution_count": 49,
   "id": "31413d95",
   "metadata": {},
   "outputs": [],
   "source": [
    "# In welchem dieser Jahre haben wir insgesamt am meisten Fahrzeuge verkauft?"
   ]
  },
  {
   "cell_type": "code",
   "execution_count": 50,
   "id": "8ca84de5",
   "metadata": {},
   "outputs": [],
   "source": [
    "yearly_sales = neu[(neu['production_date'] >= '2014-01-01') & (neu['production_date'] <= '2020-12-31')].groupby(pd.Grouper(key='production_date', freq='Y'))['fin'].count()\n"
   ]
  },
  {
   "cell_type": "code",
   "execution_count": 51,
   "id": "a6d9fd66",
   "metadata": {},
   "outputs": [
    {
     "data": {
      "text/plain": [
       "production_date\n",
       "2014-12-31    42\n",
       "2015-12-31    48\n",
       "2016-12-31    46\n",
       "2017-12-31    52\n",
       "2018-12-31    39\n",
       "2019-12-31    36\n",
       "2020-12-31    30\n",
       "Freq: A-DEC, Name: fin, dtype: int64"
      ]
     },
     "execution_count": 51,
     "metadata": {},
     "output_type": "execute_result"
    }
   ],
   "source": [
    "yearly_sales"
   ]
  },
  {
   "cell_type": "code",
   "execution_count": 52,
   "id": "6504d116",
   "metadata": {
    "scrolled": true
   },
   "outputs": [
    {
     "data": {
      "text/plain": [
       "2017"
      ]
     },
     "execution_count": 52,
     "metadata": {},
     "output_type": "execute_result"
    }
   ],
   "source": [
    "max_year = yearly_sales.idxmax().year\n",
    "max_year"
   ]
  },
  {
   "cell_type": "code",
   "execution_count": 53,
   "id": "967f285b",
   "metadata": {},
   "outputs": [
    {
     "data": {
      "image/png": "[encoded data removed]",
      "text/plain": [
       "<Figure size 640x480 with 1 Axes>"
      ]
     },
     "metadata": {},
     "output_type": "display_data"
    }
   ],
   "source": [
    "yearly_sales.plot(kind='line')\n",
    "\n",
    "plt.title('Motoren(OM934, OM936, OM470, OM471)')\n",
    "plt.xlabel('Jahr')\n",
    "plt.ylabel('Verkaufszahlen')\n",
    "\n",
    "plt.show()"
   ]
  },
  {
   "cell_type": "markdown",
   "id": "7ce4507c",
   "metadata": {},
   "source": [
    "# 2017 wurden am meisten Fahrzeuge verkauft"
   ]
  },
  {
   "cell_type": "markdown",
   "id": "08f8a4eb",
   "metadata": {},
   "source": [
    "---"
   ]
  },
  {
   "cell_type": "code",
   "execution_count": 54,
   "id": "14b97af8",
   "metadata": {},
   "outputs": [],
   "source": [
    "# Welche FIN hat das zeitlich erste verkaufte Fahrzeug?"
   ]
  },
  {
   "cell_type": "code",
   "execution_count": 55,
   "id": "a0cf0d26",
   "metadata": {},
   "outputs": [],
   "source": [
    "earliest_fin = neu.sort_values(by='production_date')\n"
   ]
  },
  {
   "cell_type": "code",
   "execution_count": 56,
   "id": "55c5b9d7",
   "metadata": {
    "scrolled": true
   },
   "outputs": [
    {
     "data": {
      "text/html": [
       "<div>\n",
       "<style scoped>\n",
       "    .dataframe tbody tr th:only-of-type {\n",
       "        vertical-align: middle;\n",
       "    }\n",
       "\n",
       "    .dataframe tbody tr th {\n",
       "        vertical-align: top;\n",
       "    }\n",
       "\n",
       "    .dataframe thead th {\n",
       "        text-align: right;\n",
       "    }\n",
       "</style>\n",
       "<table border=\"1\" class=\"dataframe\">\n",
       "  <thead>\n",
       "    <tr style=\"text-align: right;\">\n",
       "      <th></th>\n",
       "      <th>production_date</th>\n",
       "      <th>country</th>\n",
       "      <th>fin</th>\n",
       "      <th>motor_code</th>\n",
       "      <th>sales_code_array</th>\n",
       "    </tr>\n",
       "  </thead>\n",
       "  <tbody>\n",
       "    <tr>\n",
       "      <th>0</th>\n",
       "      <td>2011-01-26</td>\n",
       "      <td>Chad</td>\n",
       "      <td>WEB36004609995198</td>\n",
       "      <td>OM 470</td>\n",
       "      <td>Z5D, M2S, P9B, W9S, F6P, D7N, Z3K, V5A, O7B, A...</td>\n",
       "    </tr>\n",
       "    <tr>\n",
       "      <th>1</th>\n",
       "      <td>2011-02-15</td>\n",
       "      <td>Thailand</td>\n",
       "      <td>WDB51365356505806</td>\n",
       "      <td>OM 470</td>\n",
       "      <td>Z5D, M2N, N2I, F9W, Q0N, K7R, A5M, V6T, R5M, Z...</td>\n",
       "    </tr>\n",
       "    <tr>\n",
       "      <th>2</th>\n",
       "      <td>2011-02-17</td>\n",
       "      <td>Egypt</td>\n",
       "      <td>NMB95308052202666</td>\n",
       "      <td>OM 471</td>\n",
       "      <td>Z5E, M3D, P8Y, X4E, V6R, E3E, W7F, E3Z, C3P, C...</td>\n",
       "    </tr>\n",
       "  </tbody>\n",
       "</table>\n",
       "</div>"
      ],
      "text/plain": [
       "  production_date   country                fin motor_code  \\\n",
       "0      2011-01-26      Chad  WEB36004609995198     OM 470   \n",
       "1      2011-02-15  Thailand  WDB51365356505806     OM 470   \n",
       "2      2011-02-17     Egypt  NMB95308052202666     OM 471   \n",
       "\n",
       "                                    sales_code_array  \n",
       "0  Z5D, M2S, P9B, W9S, F6P, D7N, Z3K, V5A, O7B, A...  \n",
       "1  Z5D, M2N, N2I, F9W, Q0N, K7R, A5M, V6T, R5M, Z...  \n",
       "2  Z5E, M3D, P8Y, X4E, V6R, E3E, W7F, E3Z, C3P, C...  "
      ]
     },
     "execution_count": 56,
     "metadata": {},
     "output_type": "execute_result"
    }
   ],
   "source": [
    "earliest_fin.head(3)"
   ]
  },
  {
   "cell_type": "markdown",
   "id": "9dad3e2e",
   "metadata": {},
   "source": [
    "# Das erste verkaufte Fahrzeug hat die FIN WEB36004609995198 und wurde am 26.1.2011 verkauft."
   ]
  },
  {
   "cell_type": "markdown",
   "id": "1e2f11f8",
   "metadata": {},
   "source": [
    "---"
   ]
  },
  {
   "cell_type": "code",
   "execution_count": 57,
   "id": "d4788b0a",
   "metadata": {},
   "outputs": [],
   "source": [
    "# Wie viele Fahrzeuge wurden zwischen 01.01.2017 und 01.01.2021 mit OM934, OM936, OM470 und OM471 Motoren verkauft?"
   ]
  },
  {
   "cell_type": "code",
   "execution_count": 58,
   "id": "2db1ec4f",
   "metadata": {},
   "outputs": [],
   "source": [
    "sales_between_2017_2021 = neu[(neu['production_date'] >= '2017-01-01') & (neu['production_date'] <= '2021-01-01')]"
   ]
  },
  {
   "cell_type": "code",
   "execution_count": 59,
   "id": "806609a0",
   "metadata": {
    "scrolled": true
   },
   "outputs": [
    {
     "data": {
      "text/html": [
       "<div>\n",
       "<style scoped>\n",
       "    .dataframe tbody tr th:only-of-type {\n",
       "        vertical-align: middle;\n",
       "    }\n",
       "\n",
       "    .dataframe tbody tr th {\n",
       "        vertical-align: top;\n",
       "    }\n",
       "\n",
       "    .dataframe thead th {\n",
       "        text-align: right;\n",
       "    }\n",
       "</style>\n",
       "<table border=\"1\" class=\"dataframe\">\n",
       "  <thead>\n",
       "    <tr style=\"text-align: right;\">\n",
       "      <th></th>\n",
       "      <th>production_date</th>\n",
       "      <th>country</th>\n",
       "      <th>fin</th>\n",
       "      <th>motor_code</th>\n",
       "      <th>sales_code_array</th>\n",
       "    </tr>\n",
       "  </thead>\n",
       "  <tbody>\n",
       "    <tr>\n",
       "      <th>299</th>\n",
       "      <td>2017-01-11</td>\n",
       "      <td>Turkey</td>\n",
       "      <td>NMB91532838482279</td>\n",
       "      <td>OM 460</td>\n",
       "      <td>Z5L, M3H, A2P, Q7K, X3G, W0S, F6G, K0I, J6Y, W...</td>\n",
       "    </tr>\n",
       "    <tr>\n",
       "      <th>300</th>\n",
       "      <td>2017-01-15</td>\n",
       "      <td>Germany</td>\n",
       "      <td>NMB73188755928785</td>\n",
       "      <td>OM 460</td>\n",
       "      <td>Z5L, M3L, Z9A, M8D, R2F, Q7O, O5M, G5Y, G4B, F...</td>\n",
       "    </tr>\n",
       "    <tr>\n",
       "      <th>301</th>\n",
       "      <td>2017-01-17</td>\n",
       "      <td>Mongolia</td>\n",
       "      <td>NMB64520205131508</td>\n",
       "      <td>OM 470</td>\n",
       "      <td>Z5D, M2S, U2G, D3A, S8F, Z6F, R0V, Y3Z, F0S, F...</td>\n",
       "    </tr>\n",
       "  </tbody>\n",
       "</table>\n",
       "</div>"
      ],
      "text/plain": [
       "    production_date   country                fin motor_code  \\\n",
       "299      2017-01-11    Turkey  NMB91532838482279     OM 460   \n",
       "300      2017-01-15   Germany  NMB73188755928785     OM 460   \n",
       "301      2017-01-17  Mongolia  NMB64520205131508     OM 470   \n",
       "\n",
       "                                      sales_code_array  \n",
       "299  Z5L, M3H, A2P, Q7K, X3G, W0S, F6G, K0I, J6Y, W...  \n",
       "300  Z5L, M3L, Z9A, M8D, R2F, Q7O, O5M, G5Y, G4B, F...  \n",
       "301  Z5D, M2S, U2G, D3A, S8F, Z6F, R0V, Y3Z, F0S, F...  "
      ]
     },
     "execution_count": 59,
     "metadata": {},
     "output_type": "execute_result"
    }
   ],
   "source": [
    "sales_between_2017_2021.head(3)"
   ]
  },
  {
   "cell_type": "code",
   "execution_count": 60,
   "id": "8811475d",
   "metadata": {
    "scrolled": true
   },
   "outputs": [
    {
     "data": {
      "text/html": [
       "<div>\n",
       "<style scoped>\n",
       "    .dataframe tbody tr th:only-of-type {\n",
       "        vertical-align: middle;\n",
       "    }\n",
       "\n",
       "    .dataframe tbody tr th {\n",
       "        vertical-align: top;\n",
       "    }\n",
       "\n",
       "    .dataframe thead th {\n",
       "        text-align: right;\n",
       "    }\n",
       "</style>\n",
       "<table border=\"1\" class=\"dataframe\">\n",
       "  <thead>\n",
       "    <tr style=\"text-align: right;\">\n",
       "      <th></th>\n",
       "      <th>production_date</th>\n",
       "      <th>country</th>\n",
       "      <th>fin</th>\n",
       "      <th>motor_code</th>\n",
       "      <th>sales_code_array</th>\n",
       "    </tr>\n",
       "  </thead>\n",
       "  <tbody>\n",
       "    <tr>\n",
       "      <th>301</th>\n",
       "      <td>2017-01-17</td>\n",
       "      <td>Mongolia</td>\n",
       "      <td>NMB64520205131508</td>\n",
       "      <td>OM 470</td>\n",
       "      <td>Z5D, M2S, U2G, D3A, S8F, Z6F, R0V, Y3Z, F0S, F...</td>\n",
       "    </tr>\n",
       "    <tr>\n",
       "      <th>302</th>\n",
       "      <td>2017-01-22</td>\n",
       "      <td>Germany</td>\n",
       "      <td>WDB95921284903111</td>\n",
       "      <td>OM 934</td>\n",
       "      <td>Z5B, M1K, P9S, F5T, C5P, F0L, K5J, N1N, E7L, V...</td>\n",
       "    </tr>\n",
       "    <tr>\n",
       "      <th>303</th>\n",
       "      <td>2017-02-15</td>\n",
       "      <td>Ceuta</td>\n",
       "      <td>WDB57087485955504</td>\n",
       "      <td>OM 936</td>\n",
       "      <td>Z5C, M2D, K2T, U2S, F1N, C1G, X3Y, N4D, S5C, S...</td>\n",
       "    </tr>\n",
       "    <tr>\n",
       "      <th>305</th>\n",
       "      <td>2017-02-18</td>\n",
       "      <td>Mosambik</td>\n",
       "      <td>W1T40671165430937</td>\n",
       "      <td>OM 936</td>\n",
       "      <td>Z5C, M2D, K1U, U2Y, D0X, M5K, W0M, K7K, S8C, K...</td>\n",
       "    </tr>\n",
       "    <tr>\n",
       "      <th>306</th>\n",
       "      <td>2017-02-20</td>\n",
       "      <td>Panama</td>\n",
       "      <td>WDB53371429331330</td>\n",
       "      <td>OM 470</td>\n",
       "      <td>Z5D, M2N, W1H, Q2M, F0W, A1A, C2P, K8Z, Q4D, I...</td>\n",
       "    </tr>\n",
       "  </tbody>\n",
       "</table>\n",
       "</div>"
      ],
      "text/plain": [
       "    production_date   country                fin motor_code  \\\n",
       "301      2017-01-17  Mongolia  NMB64520205131508     OM 470   \n",
       "302      2017-01-22   Germany  WDB95921284903111     OM 934   \n",
       "303      2017-02-15     Ceuta  WDB57087485955504     OM 936   \n",
       "305      2017-02-18  Mosambik  W1T40671165430937     OM 936   \n",
       "306      2017-02-20    Panama  WDB53371429331330     OM 470   \n",
       "\n",
       "                                      sales_code_array  \n",
       "301  Z5D, M2S, U2G, D3A, S8F, Z6F, R0V, Y3Z, F0S, F...  \n",
       "302  Z5B, M1K, P9S, F5T, C5P, F0L, K5J, N1N, E7L, V...  \n",
       "303  Z5C, M2D, K2T, U2S, F1N, C1G, X3Y, N4D, S5C, S...  \n",
       "305  Z5C, M2D, K1U, U2Y, D0X, M5K, W0M, K7K, S8C, K...  \n",
       "306  Z5D, M2N, W1H, Q2M, F0W, A1A, C2P, K8Z, Q4D, I...  "
      ]
     },
     "execution_count": 60,
     "metadata": {},
     "output_type": "execute_result"
    }
   ],
   "source": [
    "motors = ['OM 934', 'OM 936', 'OM 470', 'OM 471']\n",
    "sales_with_selected_motors = sales_between_2017_2021[sales_between_2017_2021['motor_code'].str.contains('|'.join(motors))]\n",
    "sales_with_selected_motors.head()"
   ]
  },
  {
   "cell_type": "code",
   "execution_count": 61,
   "id": "b0d58d97",
   "metadata": {},
   "outputs": [],
   "source": [
    "sales_by_motor = sales_with_selected_motors.groupby('motor_code')['fin'].count()"
   ]
  },
  {
   "cell_type": "code",
   "execution_count": 62,
   "id": "5a63bc3a",
   "metadata": {},
   "outputs": [
    {
     "data": {
      "text/plain": [
       "motor_code\n",
       "OM 470    27\n",
       "OM 471    26\n",
       "OM 934    27\n",
       "OM 936    26\n",
       "Name: fin, dtype: int64"
      ]
     },
     "execution_count": 62,
     "metadata": {},
     "output_type": "execute_result"
    }
   ],
   "source": [
    "sales_by_motor"
   ]
  },
  {
   "cell_type": "code",
   "execution_count": 63,
   "id": "1bb52864",
   "metadata": {},
   "outputs": [
    {
     "data": {
      "image/png": "[encoded data removed]",
      "text/plain": [
       "<Figure size 640x480 with 1 Axes>"
      ]
     },
     "metadata": {},
     "output_type": "display_data"
    }
   ],
   "source": [
    "sales_by_motor.plot(kind='barh')\n",
    "\n",
    "plt.title('Verkaufszahlen nach Motoren')\n",
    "plt.xlabel('Verkaufszahlen')\n",
    "plt.ylabel('Motor')\n",
    "\n",
    "plt.show()"
   ]
  },
  {
   "cell_type": "markdown",
   "id": "3e64b11b",
   "metadata": {},
   "source": [
    "# Mit den entprechenden Motoren wurden zwischne 2017 und 2021 je nach Motortyp 26 oder 27 Fahrzeuge verkauft."
   ]
  },
  {
   "cell_type": "markdown",
   "id": "5ae1892d",
   "metadata": {},
   "source": [
    "---"
   ]
  },
  {
   "cell_type": "code",
   "execution_count": 64,
   "id": "d9010eae",
   "metadata": {},
   "outputs": [],
   "source": [
    "# Welche Fahrzeuge (FIN) wurden zwischen 01.01.2017 und 01.01.2021 und mit OM936 Motor nach Neuseeland verkauft?"
   ]
  },
  {
   "cell_type": "code",
   "execution_count": 65,
   "id": "7139b27e",
   "metadata": {},
   "outputs": [],
   "source": [
    "filter_condition = (neu['production_date'] >= '2017-01-01') & (neu['motor_code'] == 'OM 936')\n",
    "filtered_data = neu.loc[filter_condition]\n",
    "\n",
    "nz_sales = filtered_data[filtered_data['country'] == 'Neuseeland']"
   ]
  },
  {
   "cell_type": "code",
   "execution_count": 66,
   "id": "2d7e204c",
   "metadata": {},
   "outputs": [
    {
     "data": {
      "text/html": [
       "<div>\n",
       "<style scoped>\n",
       "    .dataframe tbody tr th:only-of-type {\n",
       "        vertical-align: middle;\n",
       "    }\n",
       "\n",
       "    .dataframe tbody tr th {\n",
       "        vertical-align: top;\n",
       "    }\n",
       "\n",
       "    .dataframe thead th {\n",
       "        text-align: right;\n",
       "    }\n",
       "</style>\n",
       "<table border=\"1\" class=\"dataframe\">\n",
       "  <thead>\n",
       "    <tr style=\"text-align: right;\">\n",
       "      <th></th>\n",
       "      <th>production_date</th>\n",
       "      <th>country</th>\n",
       "      <th>fin</th>\n",
       "      <th>motor_code</th>\n",
       "      <th>sales_code_array</th>\n",
       "    </tr>\n",
       "  </thead>\n",
       "  <tbody>\n",
       "    <tr>\n",
       "      <th>401</th>\n",
       "      <td>2019-06-01</td>\n",
       "      <td>Neuseeland</td>\n",
       "      <td>NMB26186144147288</td>\n",
       "      <td>OM 936</td>\n",
       "      <td>Z5C, M2D, T3P, Z1Q, Z7G, A6I, F0P, O4M, K2X, I...</td>\n",
       "    </tr>\n",
       "  </tbody>\n",
       "</table>\n",
       "</div>"
      ],
      "text/plain": [
       "    production_date     country                fin motor_code  \\\n",
       "401      2019-06-01  Neuseeland  NMB26186144147288     OM 936   \n",
       "\n",
       "                                      sales_code_array  \n",
       "401  Z5C, M2D, T3P, Z1Q, Z7G, A6I, F0P, O4M, K2X, I...  "
      ]
     },
     "execution_count": 66,
     "metadata": {},
     "output_type": "execute_result"
    }
   ],
   "source": [
    "nz_sales"
   ]
  },
  {
   "cell_type": "markdown",
   "id": "0fc4e569",
   "metadata": {},
   "source": [
    "# Am 1.6.2019 wurde ein Fahrzeug mit der Motornummer OM 936 und der FIN NMB26186144147288 nach Neuseeland verkauft."
   ]
  },
  {
   "cell_type": "code",
   "execution_count": 68,
   "id": "0f5ac9c8",
   "metadata": {},
   "outputs": [
    {
     "data": {
      "text/html": [
       "<div>\n",
       "<style scoped>\n",
       "    .dataframe tbody tr th:only-of-type {\n",
       "        vertical-align: middle;\n",
       "    }\n",
       "\n",
       "    .dataframe tbody tr th {\n",
       "        vertical-align: top;\n",
       "    }\n",
       "\n",
       "    .dataframe thead th {\n",
       "        text-align: right;\n",
       "    }\n",
       "</style>\n",
       "<table border=\"1\" class=\"dataframe\">\n",
       "  <thead>\n",
       "    <tr style=\"text-align: right;\">\n",
       "      <th></th>\n",
       "      <th>production_date</th>\n",
       "      <th>country</th>\n",
       "      <th>fin</th>\n",
       "      <th>motor_code</th>\n",
       "      <th>sales_code_array</th>\n",
       "    </tr>\n",
       "  </thead>\n",
       "  <tbody>\n",
       "    <tr>\n",
       "      <th>303</th>\n",
       "      <td>2017-02-15</td>\n",
       "      <td>Ceuta</td>\n",
       "      <td>WDB57087485955504</td>\n",
       "      <td>OM 936</td>\n",
       "      <td>Z5C, M2D, K2T, U2S, F1N, C1G, X3Y, N4D, S5C, S...</td>\n",
       "    </tr>\n",
       "    <tr>\n",
       "      <th>305</th>\n",
       "      <td>2017-02-18</td>\n",
       "      <td>Mosambik</td>\n",
       "      <td>W1T40671165430937</td>\n",
       "      <td>OM 936</td>\n",
       "      <td>Z5C, M2D, K1U, U2Y, D0X, M5K, W0M, K7K, S8C, K...</td>\n",
       "    </tr>\n",
       "    <tr>\n",
       "      <th>311</th>\n",
       "      <td>2017-03-16</td>\n",
       "      <td>Democratic Republic of Congo</td>\n",
       "      <td>WDB29550373808598</td>\n",
       "      <td>OM 936</td>\n",
       "      <td>Z5C, M2C, K7W, Z2Q, Z4W, I2F, Z3E, P9P, E1J, Q...</td>\n",
       "    </tr>\n",
       "    <tr>\n",
       "      <th>313</th>\n",
       "      <td>2017-03-22</td>\n",
       "      <td>Oceania / Guam</td>\n",
       "      <td>WEB96465783638934</td>\n",
       "      <td>OM 936</td>\n",
       "      <td>Z5C, M2E, O1H, W6N, K4J, F5L, Q7N, A6T, D9Z, B...</td>\n",
       "    </tr>\n",
       "    <tr>\n",
       "      <th>314</th>\n",
       "      <td>2017-03-23</td>\n",
       "      <td>Dschibuti</td>\n",
       "      <td>NMB70922882897430</td>\n",
       "      <td>OM 936</td>\n",
       "      <td>Z5C, M2E, P2W, U3M, E7C, W9H, F6E, N2S, B1X, Q...</td>\n",
       "    </tr>\n",
       "    <tr>\n",
       "      <th>323</th>\n",
       "      <td>2017-07-18</td>\n",
       "      <td>Gabun</td>\n",
       "      <td>WEB47702265151835</td>\n",
       "      <td>OM 936</td>\n",
       "      <td>Z5C, M2E, B5K, F9Z, Q8A, X3Q, Q7G, C0A, Q4E, Q...</td>\n",
       "    </tr>\n",
       "    <tr>\n",
       "      <th>325</th>\n",
       "      <td>2017-07-27</td>\n",
       "      <td>Wallis and Futuna</td>\n",
       "      <td>NMB76086269610386</td>\n",
       "      <td>OM 936</td>\n",
       "      <td>Z5C, M2D, T1A, W2S, W0P, D3D, Q5U, Z0C, K2J, J...</td>\n",
       "    </tr>\n",
       "    <tr>\n",
       "      <th>332</th>\n",
       "      <td>2017-09-24</td>\n",
       "      <td>Denmark</td>\n",
       "      <td>NMB72637911347611</td>\n",
       "      <td>OM 936</td>\n",
       "      <td>Z5C, M2D, F7Q, I5G, P1L, I1F, K8C, R1O, A5X, D...</td>\n",
       "    </tr>\n",
       "    <tr>\n",
       "      <th>350</th>\n",
       "      <td>2017-12-26</td>\n",
       "      <td>Germany</td>\n",
       "      <td>NMB74012166612407</td>\n",
       "      <td>OM 936</td>\n",
       "      <td>Z5C, M2D, Y3O, M1B, X1T, J9N, D6I, O2M, A6E, J...</td>\n",
       "    </tr>\n",
       "    <tr>\n",
       "      <th>356</th>\n",
       "      <td>2018-02-04</td>\n",
       "      <td>Lebanon</td>\n",
       "      <td>WEB94574312727427</td>\n",
       "      <td>OM 936</td>\n",
       "      <td>Z5C, M2A, R5P, T0F, C0D, Z5T, Z2I, N9Y, Q4D, G...</td>\n",
       "    </tr>\n",
       "    <tr>\n",
       "      <th>372</th>\n",
       "      <td>2018-07-19</td>\n",
       "      <td>Estonia</td>\n",
       "      <td>WEB61096822873696</td>\n",
       "      <td>OM 936</td>\n",
       "      <td>Z5C, M2A, I9Z, Q9Z, Z4T, R2I, K7W, Y9V, L9A, I...</td>\n",
       "    </tr>\n",
       "    <tr>\n",
       "      <th>384</th>\n",
       "      <td>2018-11-27</td>\n",
       "      <td>Marokko</td>\n",
       "      <td>NMB72928595968888</td>\n",
       "      <td>OM 936</td>\n",
       "      <td>Z5C, M2C, Y1P, C5Q, Q1A, Q4Z, O7E, Q6A, Q4E, W...</td>\n",
       "    </tr>\n",
       "    <tr>\n",
       "      <th>385</th>\n",
       "      <td>2018-11-29</td>\n",
       "      <td>Azerbaijan</td>\n",
       "      <td>W1T99614701493958</td>\n",
       "      <td>OM 936</td>\n",
       "      <td>Z5C, M2E, Q5S, C6E, W8Z, Q1O, D0D, M7R, C9T, K...</td>\n",
       "    </tr>\n",
       "    <tr>\n",
       "      <th>398</th>\n",
       "      <td>2019-04-24</td>\n",
       "      <td>Democratic Republic of Congo</td>\n",
       "      <td>NMB71327410429524</td>\n",
       "      <td>OM 936</td>\n",
       "      <td>Z5C, M2F, B2C, V4D, Y3M, U1F, E5U, E4S, I2H, G...</td>\n",
       "    </tr>\n",
       "    <tr>\n",
       "      <th>399</th>\n",
       "      <td>2019-05-05</td>\n",
       "      <td>Germany</td>\n",
       "      <td>WDB47978380904502</td>\n",
       "      <td>OM 936</td>\n",
       "      <td>Z5C, M2D, E3T, Z3S, N6L, Y1T, J9N, Q1A, C9N, C...</td>\n",
       "    </tr>\n",
       "    <tr>\n",
       "      <th>401</th>\n",
       "      <td>2019-06-01</td>\n",
       "      <td>Neuseeland</td>\n",
       "      <td>NMB26186144147288</td>\n",
       "      <td>OM 936</td>\n",
       "      <td>Z5C, M2D, T3P, Z1Q, Z7G, A6I, F0P, O4M, K2X, I...</td>\n",
       "    </tr>\n",
       "    <tr>\n",
       "      <th>402</th>\n",
       "      <td>2019-06-04</td>\n",
       "      <td>Germany</td>\n",
       "      <td>W1T29978343366282</td>\n",
       "      <td>OM 936</td>\n",
       "      <td>Z5C, M2E, O7X, Q1C, P8B, L9V, E0D, K5Y, P6B, J...</td>\n",
       "    </tr>\n",
       "    <tr>\n",
       "      <th>403</th>\n",
       "      <td>2019-06-16</td>\n",
       "      <td>Greenland</td>\n",
       "      <td>NMB43549756783771</td>\n",
       "      <td>OM 936</td>\n",
       "      <td>Z5C, M2C, D3I, C3H, Z2G, J1T, I6N, Z7Y, P0C, E...</td>\n",
       "    </tr>\n",
       "    <tr>\n",
       "      <th>407</th>\n",
       "      <td>2019-07-26</td>\n",
       "      <td>Germany</td>\n",
       "      <td>WDB41028177719165</td>\n",
       "      <td>OM 936</td>\n",
       "      <td>Z5C, M2D, Q1F, W4Z, V7E, U1R, K1J, F6P, T1D, P...</td>\n",
       "    </tr>\n",
       "    <tr>\n",
       "      <th>416</th>\n",
       "      <td>2019-09-28</td>\n",
       "      <td>Falkland Islands</td>\n",
       "      <td>W1T72091073616360</td>\n",
       "      <td>OM 936</td>\n",
       "      <td>Z5C, M2A, Q7O, O1N, N7V, H2J, Q6H, F2B, O7L, T...</td>\n",
       "    </tr>\n",
       "    <tr>\n",
       "      <th>418</th>\n",
       "      <td>2019-10-10</td>\n",
       "      <td>Myanmar</td>\n",
       "      <td>WEB84384766030319</td>\n",
       "      <td>OM 936</td>\n",
       "      <td>Z5C, M2C, M9A, K8X, H1X, O2N, V1B, M6P, M9W, Q...</td>\n",
       "    </tr>\n",
       "    <tr>\n",
       "      <th>428</th>\n",
       "      <td>2020-01-11</td>\n",
       "      <td>Taiwan</td>\n",
       "      <td>NMB54262690518722</td>\n",
       "      <td>OM 936</td>\n",
       "      <td>Z5C, M2E, O7O, Q6F, K7Y, P8E, I6W, A6Q, Q4Z, L...</td>\n",
       "    </tr>\n",
       "    <tr>\n",
       "      <th>431</th>\n",
       "      <td>2020-03-02</td>\n",
       "      <td>Malawi</td>\n",
       "      <td>W1T40853446195126</td>\n",
       "      <td>OM 936</td>\n",
       "      <td>Z5C, M2A, M7F, U2M, Y4I, K5Q, Q1K, T0H, M0Z, Q...</td>\n",
       "    </tr>\n",
       "    <tr>\n",
       "      <th>435</th>\n",
       "      <td>2020-04-18</td>\n",
       "      <td>Komoren</td>\n",
       "      <td>W1T59836308363695</td>\n",
       "      <td>OM 936</td>\n",
       "      <td>Z5C, M2D, C9V, K3Z, V5A, G3X, R9Z, K6P, F5U, A...</td>\n",
       "    </tr>\n",
       "    <tr>\n",
       "      <th>440</th>\n",
       "      <td>2020-06-14</td>\n",
       "      <td>Germany</td>\n",
       "      <td>WDB64040093682205</td>\n",
       "      <td>OM 936</td>\n",
       "      <td>Z5C, M2A, P0Y, Q1B, W8M, R8A, F6H, H2I, Q6W, U...</td>\n",
       "    </tr>\n",
       "    <tr>\n",
       "      <th>444</th>\n",
       "      <td>2020-06-27</td>\n",
       "      <td>Cyprus</td>\n",
       "      <td>NMB99956329867672</td>\n",
       "      <td>OM 936</td>\n",
       "      <td>Z5C, M2E, I0K, W5X, V7I, Q2P, Q6J, U1W, E1C, Y...</td>\n",
       "    </tr>\n",
       "    <tr>\n",
       "      <th>471</th>\n",
       "      <td>2021-04-21</td>\n",
       "      <td>Germany</td>\n",
       "      <td>WDB14569296263563</td>\n",
       "      <td>OM 936</td>\n",
       "      <td>Z5C, M2E, N7W, E5G, B3H, R1Z, V5R, Z3U, Y4J, U...</td>\n",
       "    </tr>\n",
       "  </tbody>\n",
       "</table>\n",
       "</div>"
      ],
      "text/plain": [
       "    production_date                       country                fin  \\\n",
       "303      2017-02-15                         Ceuta  WDB57087485955504   \n",
       "305      2017-02-18                      Mosambik  W1T40671165430937   \n",
       "311      2017-03-16  Democratic Republic of Congo  WDB29550373808598   \n",
       "313      2017-03-22                Oceania / Guam  WEB96465783638934   \n",
       "314      2017-03-23                     Dschibuti  NMB70922882897430   \n",
       "323      2017-07-18                         Gabun  WEB47702265151835   \n",
       "325      2017-07-27             Wallis and Futuna  NMB76086269610386   \n",
       "332      2017-09-24                       Denmark  NMB72637911347611   \n",
       "350      2017-12-26                       Germany  NMB74012166612407   \n",
       "356      2018-02-04                       Lebanon  WEB94574312727427   \n",
       "372      2018-07-19                       Estonia  WEB61096822873696   \n",
       "384      2018-11-27                       Marokko  NMB72928595968888   \n",
       "385      2018-11-29                    Azerbaijan  W1T99614701493958   \n",
       "398      2019-04-24  Democratic Republic of Congo  NMB71327410429524   \n",
       "399      2019-05-05                       Germany  WDB47978380904502   \n",
       "401      2019-06-01                    Neuseeland  NMB26186144147288   \n",
       "402      2019-06-04                       Germany  W1T29978343366282   \n",
       "403      2019-06-16                     Greenland  NMB43549756783771   \n",
       "407      2019-07-26                       Germany  WDB41028177719165   \n",
       "416      2019-09-28              Falkland Islands  W1T72091073616360   \n",
       "418      2019-10-10                       Myanmar  WEB84384766030319   \n",
       "428      2020-01-11                        Taiwan  NMB54262690518722   \n",
       "431      2020-03-02                        Malawi  W1T40853446195126   \n",
       "435      2020-04-18                       Komoren  W1T59836308363695   \n",
       "440      2020-06-14                       Germany  WDB64040093682205   \n",
       "444      2020-06-27                        Cyprus  NMB99956329867672   \n",
       "471      2021-04-21                       Germany  WDB14569296263563   \n",
       "\n",
       "    motor_code                                   sales_code_array  \n",
       "303     OM 936  Z5C, M2D, K2T, U2S, F1N, C1G, X3Y, N4D, S5C, S...  \n",
       "305     OM 936  Z5C, M2D, K1U, U2Y, D0X, M5K, W0M, K7K, S8C, K...  \n",
       "311     OM 936  Z5C, M2C, K7W, Z2Q, Z4W, I2F, Z3E, P9P, E1J, Q...  \n",
       "313     OM 936  Z5C, M2E, O1H, W6N, K4J, F5L, Q7N, A6T, D9Z, B...  \n",
       "314     OM 936  Z5C, M2E, P2W, U3M, E7C, W9H, F6E, N2S, B1X, Q...  \n",
       "323     OM 936  Z5C, M2E, B5K, F9Z, Q8A, X3Q, Q7G, C0A, Q4E, Q...  \n",
       "325     OM 936  Z5C, M2D, T1A, W2S, W0P, D3D, Q5U, Z0C, K2J, J...  \n",
       "332     OM 936  Z5C, M2D, F7Q, I5G, P1L, I1F, K8C, R1O, A5X, D...  \n",
       "350     OM 936  Z5C, M2D, Y3O, M1B, X1T, J9N, D6I, O2M, A6E, J...  \n",
       "356     OM 936  Z5C, M2A, R5P, T0F, C0D, Z5T, Z2I, N9Y, Q4D, G...  \n",
       "372     OM 936  Z5C, M2A, I9Z, Q9Z, Z4T, R2I, K7W, Y9V, L9A, I...  \n",
       "384     OM 936  Z5C, M2C, Y1P, C5Q, Q1A, Q4Z, O7E, Q6A, Q4E, W...  \n",
       "385     OM 936  Z5C, M2E, Q5S, C6E, W8Z, Q1O, D0D, M7R, C9T, K...  \n",
       "398     OM 936  Z5C, M2F, B2C, V4D, Y3M, U1F, E5U, E4S, I2H, G...  \n",
       "399     OM 936  Z5C, M2D, E3T, Z3S, N6L, Y1T, J9N, Q1A, C9N, C...  \n",
       "401     OM 936  Z5C, M2D, T3P, Z1Q, Z7G, A6I, F0P, O4M, K2X, I...  \n",
       "402     OM 936  Z5C, M2E, O7X, Q1C, P8B, L9V, E0D, K5Y, P6B, J...  \n",
       "403     OM 936  Z5C, M2C, D3I, C3H, Z2G, J1T, I6N, Z7Y, P0C, E...  \n",
       "407     OM 936  Z5C, M2D, Q1F, W4Z, V7E, U1R, K1J, F6P, T1D, P...  \n",
       "416     OM 936  Z5C, M2A, Q7O, O1N, N7V, H2J, Q6H, F2B, O7L, T...  \n",
       "418     OM 936  Z5C, M2C, M9A, K8X, H1X, O2N, V1B, M6P, M9W, Q...  \n",
       "428     OM 936  Z5C, M2E, O7O, Q6F, K7Y, P8E, I6W, A6Q, Q4Z, L...  \n",
       "431     OM 936  Z5C, M2A, M7F, U2M, Y4I, K5Q, Q1K, T0H, M0Z, Q...  \n",
       "435     OM 936  Z5C, M2D, C9V, K3Z, V5A, G3X, R9Z, K6P, F5U, A...  \n",
       "440     OM 936  Z5C, M2A, P0Y, Q1B, W8M, R8A, F6H, H2I, Q6W, U...  \n",
       "444     OM 936  Z5C, M2E, I0K, W5X, V7I, Q2P, Q6J, U1W, E1C, Y...  \n",
       "471     OM 936  Z5C, M2E, N7W, E5G, B3H, R1Z, V5R, Z3U, Y4J, U...  "
      ]
     },
     "execution_count": 68,
     "metadata": {},
     "output_type": "execute_result"
    }
   ],
   "source": [
    "filtered_data"
   ]
  },
  {
   "cell_type": "code",
   "execution_count": null,
   "id": "d534906f",
   "metadata": {},
   "outputs": [],
   "source": []
  }
 ],
 "metadata": {
  "kernelspec": {
   "display_name": "Python 3 (ipykernel)",
   "language": "python",
   "name": "python3"
  },
  "language_info": {
   "codemirror_mode": {
    "name": "ipython",
    "version": 3
   },
   "file_extension": ".py",
   "mimetype": "text/x-python",
   "name": "python",
   "nbconvert_exporter": "python",
   "pygments_lexer": "ipython3",
   "version": "3.9.13"
  }
 },
 "nbformat": 4,
 "nbformat_minor": 5
}
