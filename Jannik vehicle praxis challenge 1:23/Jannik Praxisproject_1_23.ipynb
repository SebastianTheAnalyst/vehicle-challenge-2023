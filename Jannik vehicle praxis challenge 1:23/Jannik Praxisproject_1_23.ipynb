{
 "cells": [
  {
   "cell_type": "markdown",
   "id": "11311045",
   "metadata": {},
   "source": [
    "# Programming Challenge"
   ]
  },
  {
   "cell_type": "markdown",
   "id": "f606cdf7",
   "metadata": {},
   "source": [
    "#Die Daten, welche in dieser Challenge verwendet werden sollen, finden Sie in der Datei vehicle_data.xlsx. \n",
    "Bitte beachten Sie, dass die Daten zunächst aufbereitet werden müssen, also noch nicht in einer Qualität vorliegen, die eine \u001c\n",
    "nale Insight-Generierung ermöglicht.\n",
    "Die Quelldatei vehicle_data.xlsx beinhaltet Daten zu 500 Fahrzeugen:\n",
    "Im Reiter sales code finden Sie 500 Trucks deren eindeutige Fahrzeugidentifikationsnummer (FIN) als hash in der \n",
    "Spalte h_vehicle_hash dargestellt ist. Jedes Fahrzeug ist aufgeschlüsselt nach Produktionsdatum, Land in welches \n",
    "das Fahrzeug verkauft wurde und sales_code_array. Letztere Spalte beinhaltet Codes, welche die genaue \n",
    "Zusammensetzung des Fahrzeuges beschreiben. Im Reiter engines finden Sie 9 sales Codes, die Aufschluss darüber \n",
    "geben, welcher Motor im entsprechenden Fahrzeug verbaut ist. Mit der Tabelle vehicle_hash können Sie die gehashte \n",
    "FIN zurück in die originale Darstellung\n",
    " mappen.\n",
    "\n",
    "Die Challenge teilt sich in zwei Aufgabenteile ein. Der erste Teil zielt auf ihre Softwareentwicklungsfertigkeiten\n",
    "ab. Halten Sie bei der Code Gestaltung die gängigsten Clean Code Regeln ein und verfolgen Sie nach Möglichkeit eine\n",
    "testgetriebene Entwicklung. Im zweiten Aufgabenteil sollen Sie verschiedene Analysen durchführen. Verwenden Sie \n",
    "dazu die Daten, welche Sie in Aufgabenteil eins aufbereitet haben.\n",
    "\n",
    "Bevor Sie starten, bietet es sich an sich zunächst mit den Datenätzen vertraut zu machen. Verschaffen Sie sich \n",
    "einen Überblick und erkunden Sie die Zusammenhänge der Datensätze.\n",
    "*  \n",
    "\n",
    " verbauter Motor, Leistungsklasse, Kabinentyp und weitere Merkmale OM924, OM926, etc . . .\n",
    "17 stellige Buchstaben-Zahlenkombination\n",
    "\n",
    "#Aufgabe 1: \n",
    "Data Engineering\n",
    "Schreiben Sie eine ETL Pipeline zur Datenaufbereitung. Gehen Sie dabei wie folgt vor.\n",
    " Daten laden\n",
    " Daten bereinigen und aufbereiten  Daten zusammenführen\n",
    " Gesamttabelle bestehend aus folgenden Spalten abspeichern:\n",
    "\u0015 fin\n",
    "\u0015 production_date \n",
    "\u0015 country\n",
    "\u0015 sales_code_array\n",
    "\n",
    "#Aufgabe 2: Data Science\n",
    "Analysieren Sie den die Daten, indem Sie folgende Fragestellungen auswerten.\n",
    "Visualisieren Sie ihre Ergebnisse.\n",
    "\n",
    " Welches sind die top drei Länder, in die wir zwischen 01.01.2014 und 31.12.2020 am meisten Fahrzeuge verkauft haben.\n",
    " In welchem dieser Jahre haben wir insgesamt am meisten Fahrzeuge verkauft?\n",
    " Welche FIN hat das zeitlich erste verkaufte Fahrzeug.\n",
    " Wie viele Fahrzeuge wurden zwischen 01.01.2017 und 01.01.2021 mit OM934, OM936, OM470 und OM471 Motoren verkauft.\n",
    " Welche Fahrzeuge (FIN) wurden zwischen 01.01.2017 und 01.01.2021 und mit OM936 Motor nach Neuseeland verkauft."
   ]
  },
  {
   "cell_type": "code",
   "execution_count": 1,
   "id": "63a94d15",
   "metadata": {},
   "outputs": [],
   "source": [
    "import pandas as pd\n",
    "import numpy as np\n",
    "import matplotlib.pylab as plt \n",
    "import seaborn as sns\n",
    "import warnings\n",
    "warnings.filterwarnings(\"ignore\")"
   ]
  },
  {
   "cell_type": "code",
   "execution_count": 2,
   "id": "a3b31612",
   "metadata": {},
   "outputs": [],
   "source": [
    "import os"
   ]
  },
  {
   "cell_type": "code",
   "execution_count": 3,
   "id": "ef8413b4",
   "metadata": {},
   "outputs": [
    {
     "data": {
      "text/plain": [
       "'/Users/sebastiangurgel/Desktop/Seba Python/Jannik vehicle praxis challenge 1:23'"
      ]
     },
     "execution_count": 3,
     "metadata": {},
     "output_type": "execute_result"
    }
   ],
   "source": [
    "os.getcwd()"
   ]
  },
  {
   "cell_type": "markdown",
   "id": "c7caf230",
   "metadata": {},
   "source": [
    "# Tabellenblatt 1 öffnen, prüfen, bereinigen"
   ]
  },
  {
   "cell_type": "code",
   "execution_count": 4,
   "id": "3e973cb2",
   "metadata": {},
   "outputs": [],
   "source": [
    "sales_codes=pd.read_excel(\"vehicle_data.xlsx\", sheet_name=(\"sales_codes\"))"
   ]
  },
  {
   "cell_type": "code",
   "execution_count": 5,
   "id": "e653c5b1",
   "metadata": {},
   "outputs": [
    {
     "data": {
      "text/html": [
       "<div>\n",
       "<style scoped>\n",
       "    .dataframe tbody tr th:only-of-type {\n",
       "        vertical-align: middle;\n",
       "    }\n",
       "\n",
       "    .dataframe tbody tr th {\n",
       "        vertical-align: top;\n",
       "    }\n",
       "\n",
       "    .dataframe thead th {\n",
       "        text-align: right;\n",
       "    }\n",
       "</style>\n",
       "<table border=\"1\" class=\"dataframe\">\n",
       "  <thead>\n",
       "    <tr style=\"text-align: right;\">\n",
       "      <th></th>\n",
       "      <th>Unnamed: 0</th>\n",
       "      <th>h_vehicle_hash</th>\n",
       "      <th>production_date</th>\n",
       "      <th>country</th>\n",
       "      <th>sales_code_array</th>\n",
       "    </tr>\n",
       "  </thead>\n",
       "  <tbody>\n",
       "    <tr>\n",
       "      <th>495</th>\n",
       "      <td>0</td>\n",
       "      <td>e97bca74b48c8e2e809dea1814ea647d057d9df1</td>\n",
       "      <td>2015-06-09 00:00:00</td>\n",
       "      <td>Qatar</td>\n",
       "      <td>Z5F, M3V, N8K, Q2E, X3I, F5Q, D7F, E3T, D0B, D...</td>\n",
       "    </tr>\n",
       "    <tr>\n",
       "      <th>496</th>\n",
       "      <td>0</td>\n",
       "      <td>e7d817628ed1f07aef4fa8d6b7cd7a1c0419c5c3</td>\n",
       "      <td>2019-08-22 00:00:00</td>\n",
       "      <td>Costa Rica</td>\n",
       "      <td>Z5E, M3A, Q2V, Q4X, B1D, R2J, P9T, F6A, E2I, I...</td>\n",
       "    </tr>\n",
       "    <tr>\n",
       "      <th>497</th>\n",
       "      <td>0</td>\n",
       "      <td>d7b0f243d9c87c1519638fd687f171f18878def4</td>\n",
       "      <td>2018-05-03 00:00:00</td>\n",
       "      <td>Germany</td>\n",
       "      <td>Z5L, M3J, A4M, P6Y, C7E, A1H, V6G, D5N, E0N, K...</td>\n",
       "    </tr>\n",
       "    <tr>\n",
       "      <th>498</th>\n",
       "      <td>0</td>\n",
       "      <td>73fa5ea52299d19c5bc2323d96458de6dd2cc48a</td>\n",
       "      <td>2016-04-11 00:00:00</td>\n",
       "      <td>Algeria</td>\n",
       "      <td>Z5E, M3B, U3M, J2O, I5B, Z0M, X2C, I6P, I1C, V...</td>\n",
       "    </tr>\n",
       "    <tr>\n",
       "      <th>499</th>\n",
       "      <td>0</td>\n",
       "      <td>e4d588f7a964377ce7cf047ecdec806b03f7a356</td>\n",
       "      <td>2012-09-25 00:00:00</td>\n",
       "      <td>Germany</td>\n",
       "      <td>Z5C, M2F, E5A, W2A, N8H, J2E, D9Y, L9B, U2S, C...</td>\n",
       "    </tr>\n",
       "  </tbody>\n",
       "</table>\n",
       "</div>"
      ],
      "text/plain": [
       "     Unnamed: 0                            h_vehicle_hash  \\\n",
       "495           0  e97bca74b48c8e2e809dea1814ea647d057d9df1   \n",
       "496           0  e7d817628ed1f07aef4fa8d6b7cd7a1c0419c5c3   \n",
       "497           0  d7b0f243d9c87c1519638fd687f171f18878def4   \n",
       "498           0  73fa5ea52299d19c5bc2323d96458de6dd2cc48a   \n",
       "499           0  e4d588f7a964377ce7cf047ecdec806b03f7a356   \n",
       "\n",
       "         production_date     country  \\\n",
       "495  2015-06-09 00:00:00       Qatar   \n",
       "496  2019-08-22 00:00:00  Costa Rica   \n",
       "497  2018-05-03 00:00:00     Germany   \n",
       "498  2016-04-11 00:00:00     Algeria   \n",
       "499  2012-09-25 00:00:00     Germany   \n",
       "\n",
       "                                      sales_code_array  \n",
       "495  Z5F, M3V, N8K, Q2E, X3I, F5Q, D7F, E3T, D0B, D...  \n",
       "496  Z5E, M3A, Q2V, Q4X, B1D, R2J, P9T, F6A, E2I, I...  \n",
       "497  Z5L, M3J, A4M, P6Y, C7E, A1H, V6G, D5N, E0N, K...  \n",
       "498  Z5E, M3B, U3M, J2O, I5B, Z0M, X2C, I6P, I1C, V...  \n",
       "499  Z5C, M2F, E5A, W2A, N8H, J2E, D9Y, L9B, U2S, C...  "
      ]
     },
     "execution_count": 5,
     "metadata": {},
     "output_type": "execute_result"
    }
   ],
   "source": [
    "sales_codes.tail()"
   ]
  },
  {
   "cell_type": "code",
   "execution_count": 6,
   "id": "8c95d25a",
   "metadata": {
    "scrolled": true
   },
   "outputs": [],
   "source": [
    "sales_codes[\"production_date\"]=pd.to_datetime(sales_codes[\"production_date\"], errors=\"coerce\")"
   ]
  },
  {
   "cell_type": "code",
   "execution_count": 7,
   "id": "8fcbd0c1",
   "metadata": {},
   "outputs": [
    {
     "data": {
      "text/plain": [
       "Unnamed: 0                   int64\n",
       "h_vehicle_hash              object\n",
       "production_date     datetime64[ns]\n",
       "country                     object\n",
       "sales_code_array            object\n",
       "dtype: object"
      ]
     },
     "execution_count": 7,
     "metadata": {},
     "output_type": "execute_result"
    }
   ],
   "source": [
    "sales_codes.dtypes"
   ]
  },
  {
   "cell_type": "code",
   "execution_count": 8,
   "id": "9d29e7a8",
   "metadata": {
    "scrolled": true
   },
   "outputs": [],
   "source": [
    "sales_codes.sort_values(\"production_date\", ascending=True,inplace=True)"
   ]
  },
  {
   "cell_type": "code",
   "execution_count": 9,
   "id": "8fcc8211",
   "metadata": {},
   "outputs": [
    {
     "data": {
      "text/plain": [
       "Unnamed: 0           0\n",
       "h_vehicle_hash       5\n",
       "production_date      6\n",
       "country             10\n",
       "sales_code_array     0\n",
       "dtype: int64"
      ]
     },
     "execution_count": 9,
     "metadata": {},
     "output_type": "execute_result"
    }
   ],
   "source": [
    "sales_codes.isnull( ).sum( )"
   ]
  },
  {
   "cell_type": "code",
   "execution_count": 10,
   "id": "a1b90409",
   "metadata": {},
   "outputs": [],
   "source": [
    "sales_codes.dropna(axis=0, how='any', thresh=None, subset=None, inplace=True)"
   ]
  },
  {
   "cell_type": "code",
   "execution_count": 11,
   "id": "6b3a3fc4",
   "metadata": {},
   "outputs": [
    {
     "data": {
      "text/plain": [
       "Unnamed: 0          0\n",
       "h_vehicle_hash      0\n",
       "production_date     0\n",
       "country             0\n",
       "sales_code_array    0\n",
       "dtype: int64"
      ]
     },
     "execution_count": 11,
     "metadata": {},
     "output_type": "execute_result"
    }
   ],
   "source": [
    "sales_codes.isnull( ).sum( )"
   ]
  },
  {
   "cell_type": "markdown",
   "id": "d48582ff",
   "metadata": {
    "scrolled": false
   },
   "source": [
    "sales_codes.shape"
   ]
  },
  {
   "cell_type": "markdown",
   "id": "76594c69",
   "metadata": {},
   "source": [
    "# Die Spalte 'productions_date' enthält Fehler:"
   ]
  },
  {
   "cell_type": "code",
   "execution_count": 13,
   "id": "90b28dee",
   "metadata": {},
   "outputs": [
    {
     "data": {
      "text/html": [
       "<div>\n",
       "<style scoped>\n",
       "    .dataframe tbody tr th:only-of-type {\n",
       "        vertical-align: middle;\n",
       "    }\n",
       "\n",
       "    .dataframe tbody tr th {\n",
       "        vertical-align: top;\n",
       "    }\n",
       "\n",
       "    .dataframe thead th {\n",
       "        text-align: right;\n",
       "    }\n",
       "</style>\n",
       "<table border=\"1\" class=\"dataframe\">\n",
       "  <thead>\n",
       "    <tr style=\"text-align: right;\">\n",
       "      <th></th>\n",
       "      <th>Unnamed: 0</th>\n",
       "      <th>h_vehicle_hash</th>\n",
       "      <th>production_date</th>\n",
       "      <th>country</th>\n",
       "      <th>sales_code_array</th>\n",
       "    </tr>\n",
       "  </thead>\n",
       "  <tbody>\n",
       "    <tr>\n",
       "      <th>249</th>\n",
       "      <td>0</td>\n",
       "      <td>fb69ec4981c34392ff3cd437b020dfa78f2baad4</td>\n",
       "      <td>1850-08-25</td>\n",
       "      <td>Kaimcratic Iepublic of Critisch</td>\n",
       "      <td>Z5B, M1K, W1A, O0E, V4A, H2G, Q1H, W8E, V2M, M...</td>\n",
       "    </tr>\n",
       "    <tr>\n",
       "      <th>193</th>\n",
       "      <td>0</td>\n",
       "      <td>bc15b6297e80226461940148c48b4a219ed1d832</td>\n",
       "      <td>1899-05-06</td>\n",
       "      <td>Uganda</td>\n",
       "      <td>Z5L, M3H, O4G, Z9C, E8A, D1M, V2C, R2L, A3B, R...</td>\n",
       "    </tr>\n",
       "    <tr>\n",
       "      <th>178</th>\n",
       "      <td>0</td>\n",
       "      <td>bcc1f439139e9f436a4c2b8ae106e61eff54aa40</td>\n",
       "      <td>1910-03-10</td>\n",
       "      <td>New Caledonia</td>\n",
       "      <td>Z5C, M2D, I1W, F5L, V6H, F2T, O1A, I1G, W3B, Q...</td>\n",
       "    </tr>\n",
       "    <tr>\n",
       "      <th>294</th>\n",
       "      <td>0</td>\n",
       "      <td>3123bda5939157c24d95110d5173e059a15d8205</td>\n",
       "      <td>2055-09-05</td>\n",
       "      <td>Czechia</td>\n",
       "      <td>Z5L, M3I, K1S, S1I, B3G, W5M, Z9F, N1G, C3A, V...</td>\n",
       "    </tr>\n",
       "  </tbody>\n",
       "</table>\n",
       "</div>"
      ],
      "text/plain": [
       "     Unnamed: 0                            h_vehicle_hash production_date  \\\n",
       "249           0  fb69ec4981c34392ff3cd437b020dfa78f2baad4      1850-08-25   \n",
       "193           0  bc15b6297e80226461940148c48b4a219ed1d832      1899-05-06   \n",
       "178           0  bcc1f439139e9f436a4c2b8ae106e61eff54aa40      1910-03-10   \n",
       "294           0  3123bda5939157c24d95110d5173e059a15d8205      2055-09-05   \n",
       "\n",
       "                             country  \\\n",
       "249  Kaimcratic Iepublic of Critisch   \n",
       "193                           Uganda   \n",
       "178                    New Caledonia   \n",
       "294                          Czechia   \n",
       "\n",
       "                                      sales_code_array  \n",
       "249  Z5B, M1K, W1A, O0E, V4A, H2G, Q1H, W8E, V2M, M...  \n",
       "193  Z5L, M3H, O4G, Z9C, E8A, D1M, V2C, R2L, A3B, R...  \n",
       "178  Z5C, M2D, I1W, F5L, V6H, F2T, O1A, I1G, W3B, Q...  \n",
       "294  Z5L, M3I, K1S, S1I, B3G, W5M, Z9F, N1G, C3A, V...  "
      ]
     },
     "execution_count": 13,
     "metadata": {},
     "output_type": "execute_result"
    }
   ],
   "source": [
    "sales_codes[(sales_codes[\"production_date\"] < \"2011-01-25\") | (sales_codes[\"production_date\"] > \"2021-12-31\")]\n"
   ]
  },
  {
   "cell_type": "code",
   "execution_count": 14,
   "id": "b5a74c0c",
   "metadata": {},
   "outputs": [],
   "source": [
    "# Löschen der fehlerhaften Datumszeilen:\n",
    "sales_codes.drop(index=[193, 178,294,249], inplace=True)"
   ]
  },
  {
   "cell_type": "code",
   "execution_count": 15,
   "id": "24c2fadf",
   "metadata": {
    "scrolled": true
   },
   "outputs": [
    {
     "data": {
      "text/html": [
       "<div>\n",
       "<style scoped>\n",
       "    .dataframe tbody tr th:only-of-type {\n",
       "        vertical-align: middle;\n",
       "    }\n",
       "\n",
       "    .dataframe tbody tr th {\n",
       "        vertical-align: top;\n",
       "    }\n",
       "\n",
       "    .dataframe thead th {\n",
       "        text-align: right;\n",
       "    }\n",
       "</style>\n",
       "<table border=\"1\" class=\"dataframe\">\n",
       "  <thead>\n",
       "    <tr style=\"text-align: right;\">\n",
       "      <th></th>\n",
       "      <th>Unnamed: 0</th>\n",
       "      <th>h_vehicle_hash</th>\n",
       "      <th>production_date</th>\n",
       "      <th>country</th>\n",
       "      <th>sales_code_array</th>\n",
       "    </tr>\n",
       "  </thead>\n",
       "  <tbody>\n",
       "    <tr>\n",
       "      <th>468</th>\n",
       "      <td>0</td>\n",
       "      <td>067ecbfc7cdeab1abfb340d1e3a99463966920c4</td>\n",
       "      <td>2011-01-26</td>\n",
       "      <td>Chad</td>\n",
       "      <td>Z5D, M2S, P9B, W9S, F6P, D7N, Z3K, V5A, O7B, A...</td>\n",
       "    </tr>\n",
       "    <tr>\n",
       "      <th>202</th>\n",
       "      <td>0</td>\n",
       "      <td>5e001b6fd94922709a5f23c881c737fe28668b3e</td>\n",
       "      <td>2011-02-15</td>\n",
       "      <td>Thailand</td>\n",
       "      <td>Z5D, M2N, N2I, F9W, Q0N, K7R, A5M, V6T, R5M, Z...</td>\n",
       "    </tr>\n",
       "    <tr>\n",
       "      <th>251</th>\n",
       "      <td>0</td>\n",
       "      <td>8b95dc5e5dc3dfb9465dfc2c2a0a3b9ccefd7bd1</td>\n",
       "      <td>2011-02-17</td>\n",
       "      <td>Egypt</td>\n",
       "      <td>Z5E, M3D, P8Y, X4E, V6R, E3E, W7F, E3Z, C3P, C...</td>\n",
       "    </tr>\n",
       "  </tbody>\n",
       "</table>\n",
       "</div>"
      ],
      "text/plain": [
       "     Unnamed: 0                            h_vehicle_hash production_date  \\\n",
       "468           0  067ecbfc7cdeab1abfb340d1e3a99463966920c4      2011-01-26   \n",
       "202           0  5e001b6fd94922709a5f23c881c737fe28668b3e      2011-02-15   \n",
       "251           0  8b95dc5e5dc3dfb9465dfc2c2a0a3b9ccefd7bd1      2011-02-17   \n",
       "\n",
       "      country                                   sales_code_array  \n",
       "468      Chad  Z5D, M2S, P9B, W9S, F6P, D7N, Z3K, V5A, O7B, A...  \n",
       "202  Thailand  Z5D, M2N, N2I, F9W, Q0N, K7R, A5M, V6T, R5M, Z...  \n",
       "251     Egypt  Z5E, M3D, P8Y, X4E, V6R, E3E, W7F, E3Z, C3P, C...  "
      ]
     },
     "execution_count": 15,
     "metadata": {},
     "output_type": "execute_result"
    }
   ],
   "source": [
    "sales_codes.head(3)"
   ]
  },
  {
   "cell_type": "markdown",
   "id": "e65d2bfa",
   "metadata": {},
   "source": [
    "# Tabellenblatt 2 öffnen, prüfen, bereinigen"
   ]
  },
  {
   "cell_type": "code",
   "execution_count": 16,
   "id": "b167a764",
   "metadata": {},
   "outputs": [],
   "source": [
    "vehicle_hash=pd.read_excel(\"vehicle_data.xlsx\", sheet_name=(\"vehicle_hash\"))"
   ]
  },
  {
   "cell_type": "code",
   "execution_count": 17,
   "id": "c8c9dc16",
   "metadata": {
    "scrolled": true
   },
   "outputs": [
    {
     "data": {
      "text/html": [
       "<div>\n",
       "<style scoped>\n",
       "    .dataframe tbody tr th:only-of-type {\n",
       "        vertical-align: middle;\n",
       "    }\n",
       "\n",
       "    .dataframe tbody tr th {\n",
       "        vertical-align: top;\n",
       "    }\n",
       "\n",
       "    .dataframe thead th {\n",
       "        text-align: right;\n",
       "    }\n",
       "</style>\n",
       "<table border=\"1\" class=\"dataframe\">\n",
       "  <thead>\n",
       "    <tr style=\"text-align: right;\">\n",
       "      <th></th>\n",
       "      <th>Unnamed: 0</th>\n",
       "      <th>h_vehicle_hash</th>\n",
       "      <th>fin</th>\n",
       "      <th>record_source</th>\n",
       "      <th>load_ts</th>\n",
       "    </tr>\n",
       "  </thead>\n",
       "  <tbody>\n",
       "    <tr>\n",
       "      <th>0</th>\n",
       "      <td>0</td>\n",
       "      <td>924d229bede272c5a3b440c464cd1dfb74cae74d</td>\n",
       "      <td>WEB14561113188001</td>\n",
       "      <td>vedoc</td>\n",
       "      <td>2021-11-26 12:22:39.105133</td>\n",
       "    </tr>\n",
       "    <tr>\n",
       "      <th>1</th>\n",
       "      <td>0</td>\n",
       "      <td>3787a8db036dabd7433a32eaeeca8e5758bc3df8</td>\n",
       "      <td>W1T61600516560507</td>\n",
       "      <td>vedoc</td>\n",
       "      <td>2021-11-26 12:22:39.106127</td>\n",
       "    </tr>\n",
       "    <tr>\n",
       "      <th>2</th>\n",
       "      <td>0</td>\n",
       "      <td>aea31cdf4f575acf190626a50e927547e683d2ac</td>\n",
       "      <td>WEB74212637167838</td>\n",
       "      <td>vedoc</td>\n",
       "      <td>2021-11-26 12:22:39.106862</td>\n",
       "    </tr>\n",
       "  </tbody>\n",
       "</table>\n",
       "</div>"
      ],
      "text/plain": [
       "   Unnamed: 0                            h_vehicle_hash                fin  \\\n",
       "0           0  924d229bede272c5a3b440c464cd1dfb74cae74d  WEB14561113188001   \n",
       "1           0  3787a8db036dabd7433a32eaeeca8e5758bc3df8  W1T61600516560507   \n",
       "2           0  aea31cdf4f575acf190626a50e927547e683d2ac  WEB74212637167838   \n",
       "\n",
       "  record_source                     load_ts  \n",
       "0         vedoc  2021-11-26 12:22:39.105133  \n",
       "1         vedoc  2021-11-26 12:22:39.106127  \n",
       "2         vedoc  2021-11-26 12:22:39.106862  "
      ]
     },
     "execution_count": 17,
     "metadata": {},
     "output_type": "execute_result"
    }
   ],
   "source": [
    "vehicle_hash.head(3)"
   ]
  },
  {
   "cell_type": "code",
   "execution_count": 18,
   "id": "800038d7",
   "metadata": {
    "scrolled": true
   },
   "outputs": [
    {
     "data": {
      "text/plain": [
       "(500, 5)"
      ]
     },
     "execution_count": 18,
     "metadata": {},
     "output_type": "execute_result"
    }
   ],
   "source": [
    "vehicle_hash.shape"
   ]
  },
  {
   "cell_type": "code",
   "execution_count": 19,
   "id": "cba81261",
   "metadata": {},
   "outputs": [
    {
     "data": {
      "text/plain": [
       "Unnamed: 0         int64\n",
       "h_vehicle_hash    object\n",
       "fin               object\n",
       "record_source     object\n",
       "load_ts           object\n",
       "dtype: object"
      ]
     },
     "execution_count": 19,
     "metadata": {},
     "output_type": "execute_result"
    }
   ],
   "source": [
    "vehicle_hash.dtypes"
   ]
  },
  {
   "cell_type": "code",
   "execution_count": 20,
   "id": "6655c65c",
   "metadata": {
    "scrolled": false
   },
   "outputs": [
    {
     "data": {
      "text/plain": [
       "Unnamed: 0        0\n",
       "h_vehicle_hash    0\n",
       "fin               0\n",
       "record_source     0\n",
       "load_ts           0\n",
       "dtype: int64"
      ]
     },
     "execution_count": 20,
     "metadata": {},
     "output_type": "execute_result"
    }
   ],
   "source": [
    "vehicle_hash.isnull( ).sum( )"
   ]
  },
  {
   "cell_type": "markdown",
   "id": "9e6c1a1d",
   "metadata": {},
   "source": [
    "# Prüfung, ob die Fins immer  17-stellig ist!"
   ]
  },
  {
   "cell_type": "code",
   "execution_count": 21,
   "id": "26c68858",
   "metadata": {},
   "outputs": [
    {
     "data": {
      "text/html": [
       "<div>\n",
       "<style scoped>\n",
       "    .dataframe tbody tr th:only-of-type {\n",
       "        vertical-align: middle;\n",
       "    }\n",
       "\n",
       "    .dataframe tbody tr th {\n",
       "        vertical-align: top;\n",
       "    }\n",
       "\n",
       "    .dataframe thead th {\n",
       "        text-align: right;\n",
       "    }\n",
       "</style>\n",
       "<table border=\"1\" class=\"dataframe\">\n",
       "  <thead>\n",
       "    <tr style=\"text-align: right;\">\n",
       "      <th></th>\n",
       "      <th>Unnamed: 0</th>\n",
       "      <th>h_vehicle_hash</th>\n",
       "      <th>fin</th>\n",
       "      <th>record_source</th>\n",
       "      <th>load_ts</th>\n",
       "    </tr>\n",
       "  </thead>\n",
       "  <tbody>\n",
       "    <tr>\n",
       "      <th>86</th>\n",
       "      <td>0</td>\n",
       "      <td>b820055eeacc6767f2d9cb7c3c0efccff6688186</td>\n",
       "      <td>NMB7057091351743</td>\n",
       "      <td>vedoc</td>\n",
       "      <td>2021-11-26 12:22:39.157507</td>\n",
       "    </tr>\n",
       "    <tr>\n",
       "      <th>115</th>\n",
       "      <td>0</td>\n",
       "      <td>b23b13902d1cd36b3a463347e0d54ab519b872d6</td>\n",
       "      <td>NM97254</td>\n",
       "      <td>vedoc</td>\n",
       "      <td>2021-11-26 12:22:39.174319</td>\n",
       "    </tr>\n",
       "    <tr>\n",
       "      <th>144</th>\n",
       "      <td>0</td>\n",
       "      <td>d7dc551dbd7311612b120a7170ca73dc8e22f6db</td>\n",
       "      <td>W</td>\n",
       "      <td>vedoc</td>\n",
       "      <td>2021-11-26 12:22:39.191123</td>\n",
       "    </tr>\n",
       "    <tr>\n",
       "      <th>166</th>\n",
       "      <td>0</td>\n",
       "      <td>920605e523c7c51a6dc05148c2850a3ea011925d</td>\n",
       "      <td>42328400461785</td>\n",
       "      <td>vedoc</td>\n",
       "      <td>2021-11-26 12:22:39.203845</td>\n",
       "    </tr>\n",
       "    <tr>\n",
       "      <th>457</th>\n",
       "      <td>0</td>\n",
       "      <td>9196d2b34cdc15cb8596a7cbfe8aebab9942ee95</td>\n",
       "      <td>MB60225250190773</td>\n",
       "      <td>vedoc</td>\n",
       "      <td>2021-11-26 12:22:39.374199</td>\n",
       "    </tr>\n",
       "    <tr>\n",
       "      <th>494</th>\n",
       "      <td>0</td>\n",
       "      <td>638b2c1128f0ac139ede4b8bf39a6741c04ffae0</td>\n",
       "      <td>WEB46</td>\n",
       "      <td>vedoc</td>\n",
       "      <td>2021-11-26 12:22:39.395260</td>\n",
       "    </tr>\n",
       "  </tbody>\n",
       "</table>\n",
       "</div>"
      ],
      "text/plain": [
       "     Unnamed: 0                            h_vehicle_hash               fin  \\\n",
       "86            0  b820055eeacc6767f2d9cb7c3c0efccff6688186  NMB7057091351743   \n",
       "115           0  b23b13902d1cd36b3a463347e0d54ab519b872d6           NM97254   \n",
       "144           0  d7dc551dbd7311612b120a7170ca73dc8e22f6db                 W   \n",
       "166           0  920605e523c7c51a6dc05148c2850a3ea011925d    42328400461785   \n",
       "457           0  9196d2b34cdc15cb8596a7cbfe8aebab9942ee95  MB60225250190773   \n",
       "494           0  638b2c1128f0ac139ede4b8bf39a6741c04ffae0             WEB46   \n",
       "\n",
       "    record_source                     load_ts  \n",
       "86          vedoc  2021-11-26 12:22:39.157507  \n",
       "115         vedoc  2021-11-26 12:22:39.174319  \n",
       "144         vedoc  2021-11-26 12:22:39.191123  \n",
       "166         vedoc  2021-11-26 12:22:39.203845  \n",
       "457         vedoc  2021-11-26 12:22:39.374199  \n",
       "494         vedoc  2021-11-26 12:22:39.395260  "
      ]
     },
     "execution_count": 21,
     "metadata": {},
     "output_type": "execute_result"
    }
   ],
   "source": [
    "vehicle_hash[vehicle_hash[\"fin\"].str.len()!=17]"
   ]
  },
  {
   "cell_type": "code",
   "execution_count": 22,
   "id": "b5ec6212",
   "metadata": {},
   "outputs": [],
   "source": [
    "# Löschen der fehlerhaften fin-Zeilen:\n",
    "vehicle_hash.drop(index=[86,115,144,166,457,494], inplace=True)"
   ]
  },
  {
   "cell_type": "code",
   "execution_count": 23,
   "id": "ffe73bd1",
   "metadata": {},
   "outputs": [
    {
     "data": {
      "text/plain": [
       "(494, 5)"
      ]
     },
     "execution_count": 23,
     "metadata": {},
     "output_type": "execute_result"
    }
   ],
   "source": [
    "vehicle_hash.shape"
   ]
  },
  {
   "cell_type": "markdown",
   "id": "822d5b0d",
   "metadata": {},
   "source": [
    "# Tabellenblatt 3 öffnen, prüfen, bereinigen"
   ]
  },
  {
   "cell_type": "code",
   "execution_count": 24,
   "id": "cd1d766f",
   "metadata": {},
   "outputs": [],
   "source": [
    "engines=pd.read_excel(\"vehicle_data.xlsx\", sheet_name=(\"engines\"))"
   ]
  },
  {
   "cell_type": "code",
   "execution_count": 25,
   "id": "07389acb",
   "metadata": {},
   "outputs": [
    {
     "data": {
      "text/html": [
       "<div>\n",
       "<style scoped>\n",
       "    .dataframe tbody tr th:only-of-type {\n",
       "        vertical-align: middle;\n",
       "    }\n",
       "\n",
       "    .dataframe tbody tr th {\n",
       "        vertical-align: top;\n",
       "    }\n",
       "\n",
       "    .dataframe thead th {\n",
       "        text-align: right;\n",
       "    }\n",
       "</style>\n",
       "<table border=\"1\" class=\"dataframe\">\n",
       "  <thead>\n",
       "    <tr style=\"text-align: right;\">\n",
       "      <th></th>\n",
       "      <th>Code Group Id</th>\n",
       "      <th>Code Group Name En</th>\n",
       "      <th>Code Group Name De</th>\n",
       "      <th>Folder Name</th>\n",
       "      <th>Sales Code</th>\n",
       "      <th>Code Description En</th>\n",
       "      <th>motor_code</th>\n",
       "    </tr>\n",
       "  </thead>\n",
       "  <tbody>\n",
       "    <tr>\n",
       "      <th>0</th>\n",
       "      <td>131</td>\n",
       "      <td>powertrain engine series</td>\n",
       "      <td>motor baureihe</td>\n",
       "      <td>06 Powertrain</td>\n",
       "      <td>M0I</td>\n",
       "      <td>OM 924</td>\n",
       "      <td>OM 924</td>\n",
       "    </tr>\n",
       "    <tr>\n",
       "      <th>1</th>\n",
       "      <td>131</td>\n",
       "      <td>powertrain engine series</td>\n",
       "      <td>motor baureihe</td>\n",
       "      <td>06 Powertrain</td>\n",
       "      <td>M0J</td>\n",
       "      <td>OM 926</td>\n",
       "      <td>OM 926</td>\n",
       "    </tr>\n",
       "    <tr>\n",
       "      <th>2</th>\n",
       "      <td>131</td>\n",
       "      <td>powertrain engine series</td>\n",
       "      <td>motor baureihe</td>\n",
       "      <td>06 Powertrain</td>\n",
       "      <td>Z5A</td>\n",
       "      <td>M 936G</td>\n",
       "      <td>M 936G</td>\n",
       "    </tr>\n",
       "    <tr>\n",
       "      <th>3</th>\n",
       "      <td>131</td>\n",
       "      <td>powertrain engine series</td>\n",
       "      <td>motor baureihe</td>\n",
       "      <td>06 Powertrain</td>\n",
       "      <td>Z5B</td>\n",
       "      <td>OM 934</td>\n",
       "      <td>OM 934</td>\n",
       "    </tr>\n",
       "    <tr>\n",
       "      <th>4</th>\n",
       "      <td>131</td>\n",
       "      <td>powertrain engine series</td>\n",
       "      <td>motor baureihe</td>\n",
       "      <td>06 Powertrain</td>\n",
       "      <td>Z5C</td>\n",
       "      <td>OM 936</td>\n",
       "      <td>OM 936</td>\n",
       "    </tr>\n",
       "  </tbody>\n",
       "</table>\n",
       "</div>"
      ],
      "text/plain": [
       "   Code Group Id       Code Group Name En  Code Group Name De     Folder Name  \\\n",
       "0            131  powertrain engine series      motor baureihe  06 Powertrain   \n",
       "1            131  powertrain engine series      motor baureihe  06 Powertrain   \n",
       "2            131  powertrain engine series      motor baureihe  06 Powertrain   \n",
       "3            131  powertrain engine series      motor baureihe  06 Powertrain   \n",
       "4            131  powertrain engine series      motor baureihe  06 Powertrain   \n",
       "\n",
       "  Sales Code Code Description En motor_code  \n",
       "0        M0I              OM 924     OM 924  \n",
       "1        M0J              OM 926     OM 926  \n",
       "2        Z5A              M 936G     M 936G  \n",
       "3        Z5B              OM 934     OM 934  \n",
       "4        Z5C              OM 936     OM 936  "
      ]
     },
     "execution_count": 25,
     "metadata": {},
     "output_type": "execute_result"
    }
   ],
   "source": [
    "engines.rename(columns = {'Code Description De':'motor_code'}, inplace = True)\n",
    "engines.head()"
   ]
  },
  {
   "cell_type": "code",
   "execution_count": 26,
   "id": "853d26fb",
   "metadata": {},
   "outputs": [
    {
     "data": {
      "text/plain": [
       "(9, 7)"
      ]
     },
     "execution_count": 26,
     "metadata": {},
     "output_type": "execute_result"
    }
   ],
   "source": [
    "engines.shape"
   ]
  },
  {
   "cell_type": "code",
   "execution_count": 27,
   "id": "4ebdccc9",
   "metadata": {
    "scrolled": true
   },
   "outputs": [
    {
     "data": {
      "text/plain": [
       "Code Group Id           int64\n",
       "Code Group Name En     object\n",
       "Code Group Name De     object\n",
       "Folder Name            object\n",
       "Sales Code             object\n",
       "Code Description En    object\n",
       "motor_code             object\n",
       "dtype: object"
      ]
     },
     "execution_count": 27,
     "metadata": {},
     "output_type": "execute_result"
    }
   ],
   "source": [
    "engines.dtypes"
   ]
  },
  {
   "cell_type": "markdown",
   "id": "08fa096d",
   "metadata": {},
   "source": [
    "# Extracting den Sales Code aus dem sales_code_array irgendwo im array"
   ]
  },
  {
   "cell_type": "code",
   "execution_count": 28,
   "id": "740ef8e5",
   "metadata": {},
   "outputs": [],
   "source": [
    "sales_codes['Sales Code'] = sales_codes['sales_code_array'].str.extract(r'(Z5\\w{1})', expand=False)"
   ]
  },
  {
   "cell_type": "code",
   "execution_count": 29,
   "id": "e92799b6",
   "metadata": {
    "scrolled": true
   },
   "outputs": [
    {
     "data": {
      "text/html": [
       "<div>\n",
       "<style scoped>\n",
       "    .dataframe tbody tr th:only-of-type {\n",
       "        vertical-align: middle;\n",
       "    }\n",
       "\n",
       "    .dataframe tbody tr th {\n",
       "        vertical-align: top;\n",
       "    }\n",
       "\n",
       "    .dataframe thead th {\n",
       "        text-align: right;\n",
       "    }\n",
       "</style>\n",
       "<table border=\"1\" class=\"dataframe\">\n",
       "  <thead>\n",
       "    <tr style=\"text-align: right;\">\n",
       "      <th></th>\n",
       "      <th>Unnamed: 0</th>\n",
       "      <th>h_vehicle_hash</th>\n",
       "      <th>production_date</th>\n",
       "      <th>country</th>\n",
       "      <th>sales_code_array</th>\n",
       "      <th>Sales Code</th>\n",
       "    </tr>\n",
       "  </thead>\n",
       "  <tbody>\n",
       "    <tr>\n",
       "      <th>468</th>\n",
       "      <td>0</td>\n",
       "      <td>067ecbfc7cdeab1abfb340d1e3a99463966920c4</td>\n",
       "      <td>2011-01-26</td>\n",
       "      <td>Chad</td>\n",
       "      <td>Z5D, M2S, P9B, W9S, F6P, D7N, Z3K, V5A, O7B, A...</td>\n",
       "      <td>Z5D</td>\n",
       "    </tr>\n",
       "    <tr>\n",
       "      <th>202</th>\n",
       "      <td>0</td>\n",
       "      <td>5e001b6fd94922709a5f23c881c737fe28668b3e</td>\n",
       "      <td>2011-02-15</td>\n",
       "      <td>Thailand</td>\n",
       "      <td>Z5D, M2N, N2I, F9W, Q0N, K7R, A5M, V6T, R5M, Z...</td>\n",
       "      <td>Z5D</td>\n",
       "    </tr>\n",
       "    <tr>\n",
       "      <th>251</th>\n",
       "      <td>0</td>\n",
       "      <td>8b95dc5e5dc3dfb9465dfc2c2a0a3b9ccefd7bd1</td>\n",
       "      <td>2011-02-17</td>\n",
       "      <td>Egypt</td>\n",
       "      <td>Z5E, M3D, P8Y, X4E, V6R, E3E, W7F, E3Z, C3P, C...</td>\n",
       "      <td>Z5E</td>\n",
       "    </tr>\n",
       "    <tr>\n",
       "      <th>484</th>\n",
       "      <td>0</td>\n",
       "      <td>a05a20c0670600f828c76efcc9321bd272e49e21</td>\n",
       "      <td>2011-02-21</td>\n",
       "      <td>Mali</td>\n",
       "      <td>Z5D, M2R, Q4T, W4L, I8Z, I6L, U0A, R0S, Y1G, F...</td>\n",
       "      <td>Z5D</td>\n",
       "    </tr>\n",
       "    <tr>\n",
       "      <th>274</th>\n",
       "      <td>0</td>\n",
       "      <td>8e87ca5ff59a5d0a94711234a53364d97691be5b</td>\n",
       "      <td>2011-02-24</td>\n",
       "      <td>Hong Kong</td>\n",
       "      <td>Z5B, M1I, E5J, F8M, D9H, Y1E, P1D, P0S, Q6G, W...</td>\n",
       "      <td>Z5B</td>\n",
       "    </tr>\n",
       "  </tbody>\n",
       "</table>\n",
       "</div>"
      ],
      "text/plain": [
       "     Unnamed: 0                            h_vehicle_hash production_date  \\\n",
       "468           0  067ecbfc7cdeab1abfb340d1e3a99463966920c4      2011-01-26   \n",
       "202           0  5e001b6fd94922709a5f23c881c737fe28668b3e      2011-02-15   \n",
       "251           0  8b95dc5e5dc3dfb9465dfc2c2a0a3b9ccefd7bd1      2011-02-17   \n",
       "484           0  a05a20c0670600f828c76efcc9321bd272e49e21      2011-02-21   \n",
       "274           0  8e87ca5ff59a5d0a94711234a53364d97691be5b      2011-02-24   \n",
       "\n",
       "       country                                   sales_code_array Sales Code  \n",
       "468       Chad  Z5D, M2S, P9B, W9S, F6P, D7N, Z3K, V5A, O7B, A...        Z5D  \n",
       "202   Thailand  Z5D, M2N, N2I, F9W, Q0N, K7R, A5M, V6T, R5M, Z...        Z5D  \n",
       "251      Egypt  Z5E, M3D, P8Y, X4E, V6R, E3E, W7F, E3Z, C3P, C...        Z5E  \n",
       "484       Mali  Z5D, M2R, Q4T, W4L, I8Z, I6L, U0A, R0S, Y1G, F...        Z5D  \n",
       "274  Hong Kong  Z5B, M1I, E5J, F8M, D9H, Y1E, P1D, P0S, Q6G, W...        Z5B  "
      ]
     },
     "execution_count": 29,
     "metadata": {},
     "output_type": "execute_result"
    }
   ],
   "source": [
    "sales_codes.head()"
   ]
  },
  {
   "cell_type": "code",
   "execution_count": 30,
   "id": "fbc4b4ac",
   "metadata": {},
   "outputs": [],
   "source": [
    "# Merge \"sales_codes\" mit \"engines\" um an die Motordaten zu kommen!!!\n",
    "sales_merged = pd.merge(left=sales_codes, right=engines, how=\"left\", on=\"Sales Code\")"
   ]
  },
  {
   "cell_type": "code",
   "execution_count": 31,
   "id": "90979c23",
   "metadata": {},
   "outputs": [
    {
     "data": {
      "text/html": [
       "<div>\n",
       "<style scoped>\n",
       "    .dataframe tbody tr th:only-of-type {\n",
       "        vertical-align: middle;\n",
       "    }\n",
       "\n",
       "    .dataframe tbody tr th {\n",
       "        vertical-align: top;\n",
       "    }\n",
       "\n",
       "    .dataframe thead th {\n",
       "        text-align: right;\n",
       "    }\n",
       "</style>\n",
       "<table border=\"1\" class=\"dataframe\">\n",
       "  <thead>\n",
       "    <tr style=\"text-align: right;\">\n",
       "      <th></th>\n",
       "      <th>Unnamed: 0</th>\n",
       "      <th>h_vehicle_hash</th>\n",
       "      <th>production_date</th>\n",
       "      <th>country</th>\n",
       "      <th>sales_code_array</th>\n",
       "      <th>Sales Code</th>\n",
       "      <th>Code Group Id</th>\n",
       "      <th>Code Group Name En</th>\n",
       "      <th>Code Group Name De</th>\n",
       "      <th>Folder Name</th>\n",
       "      <th>Code Description En</th>\n",
       "      <th>motor_code</th>\n",
       "    </tr>\n",
       "  </thead>\n",
       "  <tbody>\n",
       "    <tr>\n",
       "      <th>0</th>\n",
       "      <td>0</td>\n",
       "      <td>067ecbfc7cdeab1abfb340d1e3a99463966920c4</td>\n",
       "      <td>2011-01-26</td>\n",
       "      <td>Chad</td>\n",
       "      <td>Z5D, M2S, P9B, W9S, F6P, D7N, Z3K, V5A, O7B, A...</td>\n",
       "      <td>Z5D</td>\n",
       "      <td>131</td>\n",
       "      <td>powertrain engine series</td>\n",
       "      <td>motor baureihe</td>\n",
       "      <td>06 Powertrain</td>\n",
       "      <td>OM 470</td>\n",
       "      <td>OM 470</td>\n",
       "    </tr>\n",
       "    <tr>\n",
       "      <th>1</th>\n",
       "      <td>0</td>\n",
       "      <td>5e001b6fd94922709a5f23c881c737fe28668b3e</td>\n",
       "      <td>2011-02-15</td>\n",
       "      <td>Thailand</td>\n",
       "      <td>Z5D, M2N, N2I, F9W, Q0N, K7R, A5M, V6T, R5M, Z...</td>\n",
       "      <td>Z5D</td>\n",
       "      <td>131</td>\n",
       "      <td>powertrain engine series</td>\n",
       "      <td>motor baureihe</td>\n",
       "      <td>06 Powertrain</td>\n",
       "      <td>OM 470</td>\n",
       "      <td>OM 470</td>\n",
       "    </tr>\n",
       "    <tr>\n",
       "      <th>2</th>\n",
       "      <td>0</td>\n",
       "      <td>8b95dc5e5dc3dfb9465dfc2c2a0a3b9ccefd7bd1</td>\n",
       "      <td>2011-02-17</td>\n",
       "      <td>Egypt</td>\n",
       "      <td>Z5E, M3D, P8Y, X4E, V6R, E3E, W7F, E3Z, C3P, C...</td>\n",
       "      <td>Z5E</td>\n",
       "      <td>131</td>\n",
       "      <td>powertrain engine series</td>\n",
       "      <td>motor baureihe</td>\n",
       "      <td>06 Powertrain</td>\n",
       "      <td>OM 471</td>\n",
       "      <td>OM 471</td>\n",
       "    </tr>\n",
       "  </tbody>\n",
       "</table>\n",
       "</div>"
      ],
      "text/plain": [
       "   Unnamed: 0                            h_vehicle_hash production_date  \\\n",
       "0           0  067ecbfc7cdeab1abfb340d1e3a99463966920c4      2011-01-26   \n",
       "1           0  5e001b6fd94922709a5f23c881c737fe28668b3e      2011-02-15   \n",
       "2           0  8b95dc5e5dc3dfb9465dfc2c2a0a3b9ccefd7bd1      2011-02-17   \n",
       "\n",
       "    country                                   sales_code_array Sales Code  \\\n",
       "0      Chad  Z5D, M2S, P9B, W9S, F6P, D7N, Z3K, V5A, O7B, A...        Z5D   \n",
       "1  Thailand  Z5D, M2N, N2I, F9W, Q0N, K7R, A5M, V6T, R5M, Z...        Z5D   \n",
       "2     Egypt  Z5E, M3D, P8Y, X4E, V6R, E3E, W7F, E3Z, C3P, C...        Z5E   \n",
       "\n",
       "   Code Group Id       Code Group Name En  Code Group Name De     Folder Name  \\\n",
       "0            131  powertrain engine series      motor baureihe  06 Powertrain   \n",
       "1            131  powertrain engine series      motor baureihe  06 Powertrain   \n",
       "2            131  powertrain engine series      motor baureihe  06 Powertrain   \n",
       "\n",
       "  Code Description En motor_code  \n",
       "0              OM 470     OM 470  \n",
       "1              OM 470     OM 470  \n",
       "2              OM 471     OM 471  "
      ]
     },
     "execution_count": 31,
     "metadata": {},
     "output_type": "execute_result"
    }
   ],
   "source": [
    "sales_merged.head(3)"
   ]
  },
  {
   "cell_type": "code",
   "execution_count": 32,
   "id": "2fdd5117",
   "metadata": {},
   "outputs": [],
   "source": [
    "# Merge \"sales_codes\" und \"vehicle_hash\" mit \"h_vehicle_hash\"\n",
    "df_merged = pd.merge(left=sales_merged, right=vehicle_hash, how=\"left\", on=\"h_vehicle_hash\")"
   ]
  },
  {
   "cell_type": "code",
   "execution_count": 33,
   "id": "25b557dc",
   "metadata": {},
   "outputs": [
    {
     "data": {
      "text/html": [
       "<div>\n",
       "<style scoped>\n",
       "    .dataframe tbody tr th:only-of-type {\n",
       "        vertical-align: middle;\n",
       "    }\n",
       "\n",
       "    .dataframe tbody tr th {\n",
       "        vertical-align: top;\n",
       "    }\n",
       "\n",
       "    .dataframe thead th {\n",
       "        text-align: right;\n",
       "    }\n",
       "</style>\n",
       "<table border=\"1\" class=\"dataframe\">\n",
       "  <thead>\n",
       "    <tr style=\"text-align: right;\">\n",
       "      <th></th>\n",
       "      <th>Unnamed: 0_x</th>\n",
       "      <th>h_vehicle_hash</th>\n",
       "      <th>production_date</th>\n",
       "      <th>country</th>\n",
       "      <th>sales_code_array</th>\n",
       "      <th>Sales Code</th>\n",
       "      <th>Code Group Id</th>\n",
       "      <th>Code Group Name En</th>\n",
       "      <th>Code Group Name De</th>\n",
       "      <th>Folder Name</th>\n",
       "      <th>Code Description En</th>\n",
       "      <th>motor_code</th>\n",
       "      <th>Unnamed: 0_y</th>\n",
       "      <th>fin</th>\n",
       "      <th>record_source</th>\n",
       "      <th>load_ts</th>\n",
       "    </tr>\n",
       "  </thead>\n",
       "  <tbody>\n",
       "    <tr>\n",
       "      <th>0</th>\n",
       "      <td>0</td>\n",
       "      <td>067ecbfc7cdeab1abfb340d1e3a99463966920c4</td>\n",
       "      <td>2011-01-26</td>\n",
       "      <td>Chad</td>\n",
       "      <td>Z5D, M2S, P9B, W9S, F6P, D7N, Z3K, V5A, O7B, A...</td>\n",
       "      <td>Z5D</td>\n",
       "      <td>131</td>\n",
       "      <td>powertrain engine series</td>\n",
       "      <td>motor baureihe</td>\n",
       "      <td>06 Powertrain</td>\n",
       "      <td>OM 470</td>\n",
       "      <td>OM 470</td>\n",
       "      <td>0.0</td>\n",
       "      <td>WEB36004609995198</td>\n",
       "      <td>vedoc</td>\n",
       "      <td>2021-11-26 12:22:39.380411</td>\n",
       "    </tr>\n",
       "    <tr>\n",
       "      <th>1</th>\n",
       "      <td>0</td>\n",
       "      <td>5e001b6fd94922709a5f23c881c737fe28668b3e</td>\n",
       "      <td>2011-02-15</td>\n",
       "      <td>Thailand</td>\n",
       "      <td>Z5D, M2N, N2I, F9W, Q0N, K7R, A5M, V6T, R5M, Z...</td>\n",
       "      <td>Z5D</td>\n",
       "      <td>131</td>\n",
       "      <td>powertrain engine series</td>\n",
       "      <td>motor baureihe</td>\n",
       "      <td>06 Powertrain</td>\n",
       "      <td>OM 470</td>\n",
       "      <td>OM 470</td>\n",
       "      <td>0.0</td>\n",
       "      <td>WDB51365356505806</td>\n",
       "      <td>vedoc</td>\n",
       "      <td>2021-11-26 12:22:39.224951</td>\n",
       "    </tr>\n",
       "    <tr>\n",
       "      <th>2</th>\n",
       "      <td>0</td>\n",
       "      <td>8b95dc5e5dc3dfb9465dfc2c2a0a3b9ccefd7bd1</td>\n",
       "      <td>2011-02-17</td>\n",
       "      <td>Egypt</td>\n",
       "      <td>Z5E, M3D, P8Y, X4E, V6R, E3E, W7F, E3Z, C3P, C...</td>\n",
       "      <td>Z5E</td>\n",
       "      <td>131</td>\n",
       "      <td>powertrain engine series</td>\n",
       "      <td>motor baureihe</td>\n",
       "      <td>06 Powertrain</td>\n",
       "      <td>OM 471</td>\n",
       "      <td>OM 471</td>\n",
       "      <td>0.0</td>\n",
       "      <td>NMB95308052202666</td>\n",
       "      <td>vedoc</td>\n",
       "      <td>2021-11-26 12:22:39.253534</td>\n",
       "    </tr>\n",
       "  </tbody>\n",
       "</table>\n",
       "</div>"
      ],
      "text/plain": [
       "   Unnamed: 0_x                            h_vehicle_hash production_date  \\\n",
       "0             0  067ecbfc7cdeab1abfb340d1e3a99463966920c4      2011-01-26   \n",
       "1             0  5e001b6fd94922709a5f23c881c737fe28668b3e      2011-02-15   \n",
       "2             0  8b95dc5e5dc3dfb9465dfc2c2a0a3b9ccefd7bd1      2011-02-17   \n",
       "\n",
       "    country                                   sales_code_array Sales Code  \\\n",
       "0      Chad  Z5D, M2S, P9B, W9S, F6P, D7N, Z3K, V5A, O7B, A...        Z5D   \n",
       "1  Thailand  Z5D, M2N, N2I, F9W, Q0N, K7R, A5M, V6T, R5M, Z...        Z5D   \n",
       "2     Egypt  Z5E, M3D, P8Y, X4E, V6R, E3E, W7F, E3Z, C3P, C...        Z5E   \n",
       "\n",
       "   Code Group Id       Code Group Name En  Code Group Name De     Folder Name  \\\n",
       "0            131  powertrain engine series      motor baureihe  06 Powertrain   \n",
       "1            131  powertrain engine series      motor baureihe  06 Powertrain   \n",
       "2            131  powertrain engine series      motor baureihe  06 Powertrain   \n",
       "\n",
       "  Code Description En motor_code  Unnamed: 0_y                fin  \\\n",
       "0              OM 470     OM 470           0.0  WEB36004609995198   \n",
       "1              OM 470     OM 470           0.0  WDB51365356505806   \n",
       "2              OM 471     OM 471           0.0  NMB95308052202666   \n",
       "\n",
       "  record_source                     load_ts  \n",
       "0         vedoc  2021-11-26 12:22:39.380411  \n",
       "1         vedoc  2021-11-26 12:22:39.224951  \n",
       "2         vedoc  2021-11-26 12:22:39.253534  "
      ]
     },
     "execution_count": 33,
     "metadata": {},
     "output_type": "execute_result"
    }
   ],
   "source": [
    "df_merged.head(3)"
   ]
  },
  {
   "cell_type": "code",
   "execution_count": 34,
   "id": "7b926e71",
   "metadata": {},
   "outputs": [
    {
     "data": {
      "text/plain": [
       "(475, 16)"
      ]
     },
     "execution_count": 34,
     "metadata": {},
     "output_type": "execute_result"
    }
   ],
   "source": [
    "df_merged.shape"
   ]
  },
  {
   "cell_type": "code",
   "execution_count": 35,
   "id": "941794a3",
   "metadata": {},
   "outputs": [
    {
     "data": {
      "text/plain": [
       "Index(['Unnamed: 0_x', 'h_vehicle_hash', 'production_date', 'country',\n",
       "       'sales_code_array', 'Sales Code', 'Code Group Id',\n",
       "       'Code Group Name En ', 'Code Group Name De ', 'Folder Name',\n",
       "       'Code Description En', 'motor_code', 'Unnamed: 0_y', 'fin',\n",
       "       'record_source', 'load_ts'],\n",
       "      dtype='object')"
      ]
     },
     "execution_count": 35,
     "metadata": {},
     "output_type": "execute_result"
    }
   ],
   "source": [
    "df_merged.columns"
   ]
  },
  {
   "cell_type": "code",
   "execution_count": 36,
   "id": "0a134d5f",
   "metadata": {},
   "outputs": [],
   "source": [
    "neu=df_merged[['production_date','country','fin', 'motor_code',\n",
    "       'sales_code_array']]"
   ]
  },
  {
   "cell_type": "code",
   "execution_count": 37,
   "id": "958d7052",
   "metadata": {
    "scrolled": true
   },
   "outputs": [
    {
     "data": {
      "text/html": [
       "<div>\n",
       "<style scoped>\n",
       "    .dataframe tbody tr th:only-of-type {\n",
       "        vertical-align: middle;\n",
       "    }\n",
       "\n",
       "    .dataframe tbody tr th {\n",
       "        vertical-align: top;\n",
       "    }\n",
       "\n",
       "    .dataframe thead th {\n",
       "        text-align: right;\n",
       "    }\n",
       "</style>\n",
       "<table border=\"1\" class=\"dataframe\">\n",
       "  <thead>\n",
       "    <tr style=\"text-align: right;\">\n",
       "      <th></th>\n",
       "      <th>production_date</th>\n",
       "      <th>country</th>\n",
       "      <th>fin</th>\n",
       "      <th>motor_code</th>\n",
       "      <th>sales_code_array</th>\n",
       "    </tr>\n",
       "  </thead>\n",
       "  <tbody>\n",
       "    <tr>\n",
       "      <th>0</th>\n",
       "      <td>2011-01-26</td>\n",
       "      <td>Chad</td>\n",
       "      <td>WEB36004609995198</td>\n",
       "      <td>OM 470</td>\n",
       "      <td>Z5D, M2S, P9B, W9S, F6P, D7N, Z3K, V5A, O7B, A...</td>\n",
       "    </tr>\n",
       "    <tr>\n",
       "      <th>1</th>\n",
       "      <td>2011-02-15</td>\n",
       "      <td>Thailand</td>\n",
       "      <td>WDB51365356505806</td>\n",
       "      <td>OM 470</td>\n",
       "      <td>Z5D, M2N, N2I, F9W, Q0N, K7R, A5M, V6T, R5M, Z...</td>\n",
       "    </tr>\n",
       "    <tr>\n",
       "      <th>2</th>\n",
       "      <td>2011-02-17</td>\n",
       "      <td>Egypt</td>\n",
       "      <td>NMB95308052202666</td>\n",
       "      <td>OM 471</td>\n",
       "      <td>Z5E, M3D, P8Y, X4E, V6R, E3E, W7F, E3Z, C3P, C...</td>\n",
       "    </tr>\n",
       "  </tbody>\n",
       "</table>\n",
       "</div>"
      ],
      "text/plain": [
       "  production_date   country                fin motor_code  \\\n",
       "0      2011-01-26      Chad  WEB36004609995198     OM 470   \n",
       "1      2011-02-15  Thailand  WDB51365356505806     OM 470   \n",
       "2      2011-02-17     Egypt  NMB95308052202666     OM 471   \n",
       "\n",
       "                                    sales_code_array  \n",
       "0  Z5D, M2S, P9B, W9S, F6P, D7N, Z3K, V5A, O7B, A...  \n",
       "1  Z5D, M2N, N2I, F9W, Q0N, K7R, A5M, V6T, R5M, Z...  \n",
       "2  Z5E, M3D, P8Y, X4E, V6R, E3E, W7F, E3Z, C3P, C...  "
      ]
     },
     "execution_count": 37,
     "metadata": {},
     "output_type": "execute_result"
    }
   ],
   "source": [
    "neu.head(3)"
   ]
  },
  {
   "cell_type": "code",
   "execution_count": 38,
   "id": "c8cb490d",
   "metadata": {},
   "outputs": [
    {
     "data": {
      "text/plain": [
       "(475, 5)"
      ]
     },
     "execution_count": 38,
     "metadata": {},
     "output_type": "execute_result"
    }
   ],
   "source": [
    "neu.shape"
   ]
  },
  {
   "cell_type": "markdown",
   "id": "ab5dd19f",
   "metadata": {},
   "source": [
    "# Aufgaben lösen:"
   ]
  },
  {
   "cell_type": "code",
   "execution_count": 39,
   "id": "e9116110",
   "metadata": {},
   "outputs": [],
   "source": [
    "# Welches sind die top drei Länder, in die wir zwischen 01.01.2014 und 31.12.2020 am meisten Fahrzeuge verkauft haben?\n",
    "\n",
    "# In welchem dieser Jahre haben wir insgesamt am meisten Fahrzeuge verkauft? \n",
    "\n",
    "# Welche FIN hat das zeitlich erste verkaufte Fahrzeug?\n",
    "\n",
    "# Wie viele Fahrzeuge wurden zwischen 01.01.2017 und 01.01.2021 mit OM934, OM936, OM470 und OM471 Motoren verkauft?\n",
    "\n",
    "# Welche Fahrzeuge (FIN) wurden zwischen 01.01.2017 und 01.01.2021 und mit OM936 Motor nach Neuseeland verkauft?"
   ]
  },
  {
   "cell_type": "markdown",
   "id": "c5091acf",
   "metadata": {},
   "source": [
    "# Welches sind die top drei Länder, in die wir zwischen 01.01.2014 und 31.12.2020 am meisten Fahrzeuge verkauft haben?¶"
   ]
  },
  {
   "cell_type": "code",
   "execution_count": 40,
   "id": "6943c3ce",
   "metadata": {
    "scrolled": true
   },
   "outputs": [
    {
     "data": {
      "text/html": [
       "<div>\n",
       "<style scoped>\n",
       "    .dataframe tbody tr th:only-of-type {\n",
       "        vertical-align: middle;\n",
       "    }\n",
       "\n",
       "    .dataframe tbody tr th {\n",
       "        vertical-align: top;\n",
       "    }\n",
       "\n",
       "    .dataframe thead th {\n",
       "        text-align: right;\n",
       "    }\n",
       "</style>\n",
       "<table border=\"1\" class=\"dataframe\">\n",
       "  <thead>\n",
       "    <tr style=\"text-align: right;\">\n",
       "      <th></th>\n",
       "      <th>production_date</th>\n",
       "      <th>country</th>\n",
       "      <th>fin</th>\n",
       "      <th>motor_code</th>\n",
       "      <th>sales_code_array</th>\n",
       "    </tr>\n",
       "  </thead>\n",
       "  <tbody>\n",
       "    <tr>\n",
       "      <th>0</th>\n",
       "      <td>2011-01-26</td>\n",
       "      <td>Chad</td>\n",
       "      <td>WEB36004609995198</td>\n",
       "      <td>OM 470</td>\n",
       "      <td>Z5D, M2S, P9B, W9S, F6P, D7N, Z3K, V5A, O7B, A...</td>\n",
       "    </tr>\n",
       "    <tr>\n",
       "      <th>1</th>\n",
       "      <td>2011-02-15</td>\n",
       "      <td>Thailand</td>\n",
       "      <td>WDB51365356505806</td>\n",
       "      <td>OM 470</td>\n",
       "      <td>Z5D, M2N, N2I, F9W, Q0N, K7R, A5M, V6T, R5M, Z...</td>\n",
       "    </tr>\n",
       "    <tr>\n",
       "      <th>2</th>\n",
       "      <td>2011-02-17</td>\n",
       "      <td>Egypt</td>\n",
       "      <td>NMB95308052202666</td>\n",
       "      <td>OM 471</td>\n",
       "      <td>Z5E, M3D, P8Y, X4E, V6R, E3E, W7F, E3Z, C3P, C...</td>\n",
       "    </tr>\n",
       "  </tbody>\n",
       "</table>\n",
       "</div>"
      ],
      "text/plain": [
       "  production_date   country                fin motor_code  \\\n",
       "0      2011-01-26      Chad  WEB36004609995198     OM 470   \n",
       "1      2011-02-15  Thailand  WDB51365356505806     OM 470   \n",
       "2      2011-02-17     Egypt  NMB95308052202666     OM 471   \n",
       "\n",
       "                                    sales_code_array  \n",
       "0  Z5D, M2S, P9B, W9S, F6P, D7N, Z3K, V5A, O7B, A...  \n",
       "1  Z5D, M2N, N2I, F9W, Q0N, K7R, A5M, V6T, R5M, Z...  \n",
       "2  Z5E, M3D, P8Y, X4E, V6R, E3E, W7F, E3Z, C3P, C...  "
      ]
     },
     "execution_count": 40,
     "metadata": {},
     "output_type": "execute_result"
    }
   ],
   "source": [
    "neu.head(3)"
   ]
  },
  {
   "cell_type": "code",
   "execution_count": 41,
   "id": "0e52caa5",
   "metadata": {},
   "outputs": [],
   "source": [
    "top_countries = neu[(neu['production_date'] >= '2014-01-01') & (neu['production_date'] <= '2020-12-31')].groupby('country')['fin'].count().nlargest(3)\n"
   ]
  },
  {
   "cell_type": "code",
   "execution_count": 42,
   "id": "8df7cab7",
   "metadata": {
    "scrolled": true
   },
   "outputs": [
    {
     "data": {
      "text/plain": [
       "country\n",
       "Germany       80\n",
       "Costa Rica     4\n",
       "Dominica       4\n",
       "Name: fin, dtype: int64"
      ]
     },
     "execution_count": 42,
     "metadata": {},
     "output_type": "execute_result"
    }
   ],
   "source": [
    "top_countries"
   ]
  },
  {
   "cell_type": "markdown",
   "id": "9cb04541",
   "metadata": {},
   "source": [
    "# Zwischen dem 1.1.2014 und 31.12.2020 wurden 81 Fahrzeuge nach Deutschland und jeweils 4 nach Costa Rica und in die dominikanische Republik verkauft."
   ]
  },
  {
   "cell_type": "code",
   "execution_count": 43,
   "id": "7a00f3fc",
   "metadata": {},
   "outputs": [
    {
     "data": {
      "image/png": "[encoded data removed]",
      "text/plain": [
       "<Figure size 640x480 with 1 Axes>"
      ]
     },
     "metadata": {},
     "output_type": "display_data"
    }
   ],
   "source": [
    "sns.barplot(x=top_countries.index, y=top_countries.values)\n",
    "# Set the plot title, x-label, and y-label\n",
    "plt.title('Top 3 Länder nach Verkaufszahlen')\n",
    "plt.xlabel('Land')\n",
    "plt.ylabel('Verkaufszahlen')\n",
    "\n",
    "# Show the plot\n",
    "plt.show()"
   ]
  },
  {
   "cell_type": "markdown",
   "id": "f090f55f",
   "metadata": {},
   "source": [
    "---"
   ]
  },
  {
   "cell_type": "markdown",
   "id": "3214d3e5",
   "metadata": {},
   "source": [
    "# In welchem dieser Jahre haben wir insgesamt am meisten Fahrzeuge verkauft?"
   ]
  },
  {
   "cell_type": "code",
   "execution_count": 44,
   "id": "8ca84de5",
   "metadata": {},
   "outputs": [],
   "source": [
    "yearly_sales = neu[(neu['production_date'] >= '2014-01-01') & (neu['production_date'] <= '2020-12-31')].groupby(pd.Grouper(key='production_date', freq='Y'))['fin'].count()\n"
   ]
  },
  {
   "cell_type": "code",
   "execution_count": 45,
   "id": "a6d9fd66",
   "metadata": {},
   "outputs": [
    {
     "data": {
      "text/plain": [
       "production_date\n",
       "2014-12-31    40\n",
       "2015-12-31    48\n",
       "2016-12-31    46\n",
       "2017-12-31    52\n",
       "2018-12-31    39\n",
       "2019-12-31    36\n",
       "2020-12-31    29\n",
       "Freq: A-DEC, Name: fin, dtype: int64"
      ]
     },
     "execution_count": 45,
     "metadata": {},
     "output_type": "execute_result"
    }
   ],
   "source": [
    "yearly_sales"
   ]
  },
  {
   "cell_type": "code",
   "execution_count": 46,
   "id": "6504d116",
   "metadata": {
    "scrolled": true
   },
   "outputs": [
    {
     "data": {
      "text/plain": [
       "2017"
      ]
     },
     "execution_count": 46,
     "metadata": {},
     "output_type": "execute_result"
    }
   ],
   "source": [
    "max_year = yearly_sales.idxmax().year\n",
    "max_year"
   ]
  },
  {
   "cell_type": "markdown",
   "id": "421440f2",
   "metadata": {},
   "source": [
    "# 2017 wurden mit 52 am meisten Fahrzeuge verkauft"
   ]
  },
  {
   "cell_type": "code",
   "execution_count": 47,
   "id": "20c2eca7",
   "metadata": {
    "scrolled": false
   },
   "outputs": [
    {
     "data": {
      "image/png": "[encoded data removed]",
      "text/plain": [
       "<Figure size 640x480 with 1 Axes>"
      ]
     },
     "metadata": {},
     "output_type": "display_data"
    }
   ],
   "source": [
    "sns.set_palette('Set3')\n",
    "yearly_sales.index = yearly_sales.index.strftime('%Y')\n",
    "\n",
    "ax = yearly_sales.plot(kind='barh')\n",
    "\n",
    "ax.set_title('Verkaufszahlen nach Motoren', fontsize=14)\n",
    "ax.set_xlabel('Verkaufszahlen', fontsize=12)\n",
    "#ax.set_ylabel('Jahr', fontsize=12)\n",
    "\n",
    "ax.grid(axis='x', linestyle='--', alpha=0.7)\n",
    "plt.show()"
   ]
  },
  {
   "cell_type": "markdown",
   "id": "3e470e7c",
   "metadata": {},
   "source": [
    "---\n"
   ]
  },
  {
   "cell_type": "markdown",
   "id": "befe3c12",
   "metadata": {},
   "source": [
    "# Welche FIN hat das zeitlich erste verkaufte Fahrzeug?"
   ]
  },
  {
   "cell_type": "code",
   "execution_count": 48,
   "id": "a0cf0d26",
   "metadata": {},
   "outputs": [],
   "source": [
    "earliest_fin = neu.sort_values(by='production_date')\n"
   ]
  },
  {
   "cell_type": "code",
   "execution_count": 49,
   "id": "55c5b9d7",
   "metadata": {
    "scrolled": true
   },
   "outputs": [
    {
     "data": {
      "text/html": [
       "<div>\n",
       "<style scoped>\n",
       "    .dataframe tbody tr th:only-of-type {\n",
       "        vertical-align: middle;\n",
       "    }\n",
       "\n",
       "    .dataframe tbody tr th {\n",
       "        vertical-align: top;\n",
       "    }\n",
       "\n",
       "    .dataframe thead th {\n",
       "        text-align: right;\n",
       "    }\n",
       "</style>\n",
       "<table border=\"1\" class=\"dataframe\">\n",
       "  <thead>\n",
       "    <tr style=\"text-align: right;\">\n",
       "      <th></th>\n",
       "      <th>production_date</th>\n",
       "      <th>country</th>\n",
       "      <th>fin</th>\n",
       "      <th>motor_code</th>\n",
       "      <th>sales_code_array</th>\n",
       "    </tr>\n",
       "  </thead>\n",
       "  <tbody>\n",
       "    <tr>\n",
       "      <th>0</th>\n",
       "      <td>2011-01-26</td>\n",
       "      <td>Chad</td>\n",
       "      <td>WEB36004609995198</td>\n",
       "      <td>OM 470</td>\n",
       "      <td>Z5D, M2S, P9B, W9S, F6P, D7N, Z3K, V5A, O7B, A...</td>\n",
       "    </tr>\n",
       "  </tbody>\n",
       "</table>\n",
       "</div>"
      ],
      "text/plain": [
       "  production_date country                fin motor_code  \\\n",
       "0      2011-01-26    Chad  WEB36004609995198     OM 470   \n",
       "\n",
       "                                    sales_code_array  \n",
       "0  Z5D, M2S, P9B, W9S, F6P, D7N, Z3K, V5A, O7B, A...  "
      ]
     },
     "execution_count": 49,
     "metadata": {},
     "output_type": "execute_result"
    }
   ],
   "source": [
    "earliest_fin.head(1)"
   ]
  },
  {
   "cell_type": "markdown",
   "id": "9dad3e2e",
   "metadata": {},
   "source": [
    "# Das erste verkaufte Fahrzeug hat die FIN WEB36004609995198 und wurde am 26.1.2011 verkauft."
   ]
  },
  {
   "cell_type": "markdown",
   "id": "770c7096",
   "metadata": {},
   "source": [
    "----"
   ]
  },
  {
   "cell_type": "markdown",
   "id": "8e2fb52b",
   "metadata": {},
   "source": [
    "# Wie viele Fahrzeuge wurden zwischen 01.01.2017 und 01.01.2021 mit OM934, OM936, OM470 und OM471 Motoren verkauft?"
   ]
  },
  {
   "cell_type": "code",
   "execution_count": 50,
   "id": "fba167bd",
   "metadata": {},
   "outputs": [],
   "source": [
    "motors = ['OM 934', 'OM 936', 'OM 470', 'OM 471']\n",
    "sales_with_selected_motors = neu[neu['motor_code'].isin(motors) & neu['production_date'].between('2017-01-01', '2021-01-01')]\n",
    "sales_by_motor = sales_with_selected_motors.groupby('motor_code')['fin'].count()"
   ]
  },
  {
   "cell_type": "code",
   "execution_count": 51,
   "id": "5a63bc3a",
   "metadata": {},
   "outputs": [
    {
     "data": {
      "text/plain": [
       "motor_code\n",
       "OM 470    27\n",
       "OM 471    25\n",
       "OM 934    27\n",
       "OM 936    26\n",
       "Name: fin, dtype: int64"
      ]
     },
     "execution_count": 51,
     "metadata": {},
     "output_type": "execute_result"
    }
   ],
   "source": [
    "sales_by_motor"
   ]
  },
  {
   "cell_type": "markdown",
   "id": "c88b6b8d",
   "metadata": {},
   "source": [
    "# Mit den entprechenden Motoren wurden zwischen 2017 und 2021 je nach Motortyp 26 oder 27 Fahrzeuge verkauft."
   ]
  },
  {
   "cell_type": "code",
   "execution_count": 52,
   "id": "1bb52864",
   "metadata": {
    "scrolled": false
   },
   "outputs": [
    {
     "data": {
      "image/png": "[encoded data removed]",
      "text/plain": [
       "<Figure size 640x480 with 1 Axes>"
      ]
     },
     "metadata": {},
     "output_type": "display_data"
    }
   ],
   "source": [
    "sales_by_motor.plot(kind='bar')\n",
    "\n",
    "plt.title('Verkaufszahlen nach Motoren')\n",
    "plt.xlabel('Motor')\n",
    "plt.ylabel('Verkaufszahlen')\n",
    "\n",
    "plt.show()"
   ]
  },
  {
   "cell_type": "markdown",
   "id": "c3650737",
   "metadata": {},
   "source": [
    "---"
   ]
  },
  {
   "cell_type": "markdown",
   "id": "6ddac383",
   "metadata": {},
   "source": [
    "# Welche Fahrzeuge (FIN) wurden zwischen 01.01.2017 und 01.01.2021 und mit OM936 Motor nach Neuseeland verkauft?"
   ]
  },
  {
   "cell_type": "code",
   "execution_count": 53,
   "id": "3a759697",
   "metadata": {},
   "outputs": [],
   "source": [
    "filter_condition = (neu['production_date'] >= '2017-01-01') & (neu['motor_code'] == 'OM 936') & (neu['country'] == 'Neuseeland')\n",
    "nz_sales = neu.loc[filter_condition]\n"
   ]
  },
  {
   "cell_type": "code",
   "execution_count": 54,
   "id": "2d7e204c",
   "metadata": {},
   "outputs": [
    {
     "data": {
      "text/html": [
       "<div>\n",
       "<style scoped>\n",
       "    .dataframe tbody tr th:only-of-type {\n",
       "        vertical-align: middle;\n",
       "    }\n",
       "\n",
       "    .dataframe tbody tr th {\n",
       "        vertical-align: top;\n",
       "    }\n",
       "\n",
       "    .dataframe thead th {\n",
       "        text-align: right;\n",
       "    }\n",
       "</style>\n",
       "<table border=\"1\" class=\"dataframe\">\n",
       "  <thead>\n",
       "    <tr style=\"text-align: right;\">\n",
       "      <th></th>\n",
       "      <th>production_date</th>\n",
       "      <th>country</th>\n",
       "      <th>fin</th>\n",
       "      <th>motor_code</th>\n",
       "      <th>sales_code_array</th>\n",
       "    </tr>\n",
       "  </thead>\n",
       "  <tbody>\n",
       "    <tr>\n",
       "      <th>401</th>\n",
       "      <td>2019-06-01</td>\n",
       "      <td>Neuseeland</td>\n",
       "      <td>NMB26186144147288</td>\n",
       "      <td>OM 936</td>\n",
       "      <td>Z5C, M2D, T3P, Z1Q, Z7G, A6I, F0P, O4M, K2X, I...</td>\n",
       "    </tr>\n",
       "  </tbody>\n",
       "</table>\n",
       "</div>"
      ],
      "text/plain": [
       "    production_date     country                fin motor_code  \\\n",
       "401      2019-06-01  Neuseeland  NMB26186144147288     OM 936   \n",
       "\n",
       "                                      sales_code_array  \n",
       "401  Z5C, M2D, T3P, Z1Q, Z7G, A6I, F0P, O4M, K2X, I...  "
      ]
     },
     "execution_count": 54,
     "metadata": {},
     "output_type": "execute_result"
    }
   ],
   "source": [
    "nz_sales"
   ]
  },
  {
   "cell_type": "markdown",
   "id": "0fc4e569",
   "metadata": {},
   "source": [
    "# Am 1.6.2019 wurde ein Fahrzeug mit der Motornummer OM 936 nach Neuseeland verkauft."
   ]
  }
 ],
 "metadata": {
  "kernelspec": {
   "display_name": "Python 3 (ipykernel)",
   "language": "python",
   "name": "python3"
  },
  "language_info": {
   "codemirror_mode": {
    "name": "ipython",
    "version": 3
   },
   "file_extension": ".py",
   "mimetype": "text/x-python",
   "name": "python",
   "nbconvert_exporter": "python",
   "pygments_lexer": "ipython3",
   "version": "3.9.13"
  }
 },
 "nbformat": 4,
 "nbformat_minor": 5
}
